{
 "cells": [
  {
   "cell_type": "code",
   "execution_count": 90,
   "metadata": {},
   "outputs": [],
   "source": [
    "import os\n",
    "import warnings\n",
    "from collections import Counter\n",
    "from datetime import datetime\n",
    "from functools import partial\n",
    "from pathlib import Path\n",
    "\n",
    "import matplotlib.pyplot as plt\n",
    "import pandas as pd\n",
    "import seaborn as sns\n",
    "import torch\n",
    "from deep_translator import GoogleTranslator\n",
    "from fastai.callback.progress import CSVLogger\n",
    "from fastai.callback.tracker import EarlyStoppingCallback, SaveModelCallback\n",
    "from fastai.learner import DataLoaders\n",
    "from fastai.metrics import RocAuc\n",
    "from fastai.optimizer import OptimWrapper\n",
    "from fastai.vision.all import Learner\n",
    "from sentence_transformers import SentenceTransformer, util\n",
    "from sklearn.model_selection import train_test_split\n",
    "from torch import nn\n",
    "from torch.utils.data import DataLoader, Dataset\n",
    "from tqdm import tqdm\n",
    "from transformers import RobertaTokenizer, RobertaModel"
   ]
  },
  {
   "cell_type": "code",
   "execution_count": 91,
   "metadata": {},
   "outputs": [],
   "source": [
    "warnings.filterwarnings(\"ignore\", category=FutureWarning)"
   ]
  },
  {
   "cell_type": "code",
   "execution_count": 92,
   "metadata": {},
   "outputs": [],
   "source": [
    "import pickle\n",
    "SIM_THRESHOLD = 0.80\n",
    "# 5/0\n",
    "data_translated = {}\n",
    "with open('data_translated.pkl', 'rb') as f:\n",
    "    data_translated = pickle.load(f)"
   ]
  },
  {
   "cell_type": "code",
   "execution_count": 93,
   "metadata": {},
   "outputs": [],
   "source": [
    "original_eng = pd.read_csv('public_data/train/track_a/eng.csv')\n",
    "original_eng['comment'] = 'original_eng'"
   ]
  },
  {
   "cell_type": "code",
   "execution_count": 94,
   "metadata": {},
   "outputs": [
    {
     "data": {
      "text/html": [
       "<div>\n",
       "<style scoped>\n",
       "    .dataframe tbody tr th:only-of-type {\n",
       "        vertical-align: middle;\n",
       "    }\n",
       "\n",
       "    .dataframe tbody tr th {\n",
       "        vertical-align: top;\n",
       "    }\n",
       "\n",
       "    .dataframe thead th {\n",
       "        text-align: right;\n",
       "    }\n",
       "</style>\n",
       "<table border=\"1\" class=\"dataframe\">\n",
       "  <thead>\n",
       "    <tr style=\"text-align: right;\">\n",
       "      <th></th>\n",
       "      <th>id</th>\n",
       "      <th>text</th>\n",
       "      <th>Anger</th>\n",
       "      <th>Fear</th>\n",
       "      <th>Joy</th>\n",
       "      <th>Sadness</th>\n",
       "      <th>Surprise</th>\n",
       "      <th>comment</th>\n",
       "    </tr>\n",
       "  </thead>\n",
       "  <tbody>\n",
       "    <tr>\n",
       "      <th>0</th>\n",
       "      <td>eng_train_track_a_00001</td>\n",
       "      <td>But not very happy.</td>\n",
       "      <td>0</td>\n",
       "      <td>0</td>\n",
       "      <td>1</td>\n",
       "      <td>1</td>\n",
       "      <td>0</td>\n",
       "      <td>original_eng</td>\n",
       "    </tr>\n",
       "    <tr>\n",
       "      <th>1</th>\n",
       "      <td>eng_train_track_a_00002</td>\n",
       "      <td>Well she's not gon na last the whole song like that, so since I'm behind her and the audience can't see below my torso pretty much, I use my hand to push down on the lid and support her weight.</td>\n",
       "      <td>0</td>\n",
       "      <td>0</td>\n",
       "      <td>1</td>\n",
       "      <td>0</td>\n",
       "      <td>0</td>\n",
       "      <td>original_eng</td>\n",
       "    </tr>\n",
       "    <tr>\n",
       "      <th>2</th>\n",
       "      <td>eng_train_track_a_00003</td>\n",
       "      <td>She sat at her Papa's recliner sofa only to move next to me and start clinging to my arms.</td>\n",
       "      <td>0</td>\n",
       "      <td>0</td>\n",
       "      <td>0</td>\n",
       "      <td>0</td>\n",
       "      <td>0</td>\n",
       "      <td>original_eng</td>\n",
       "    </tr>\n",
       "    <tr>\n",
       "      <th>3</th>\n",
       "      <td>eng_train_track_a_00004</td>\n",
       "      <td>Yes, the Oklahoma city bombing.</td>\n",
       "      <td>1</td>\n",
       "      <td>1</td>\n",
       "      <td>0</td>\n",
       "      <td>1</td>\n",
       "      <td>1</td>\n",
       "      <td>original_eng</td>\n",
       "    </tr>\n",
       "    <tr>\n",
       "      <th>4</th>\n",
       "      <td>eng_train_track_a_00005</td>\n",
       "      <td>They were dancing to Bolero.</td>\n",
       "      <td>0</td>\n",
       "      <td>0</td>\n",
       "      <td>1</td>\n",
       "      <td>0</td>\n",
       "      <td>0</td>\n",
       "      <td>original_eng</td>\n",
       "    </tr>\n",
       "  </tbody>\n",
       "</table>\n",
       "</div>"
      ],
      "text/plain": [
       "                        id  \\\n",
       "0  eng_train_track_a_00001   \n",
       "1  eng_train_track_a_00002   \n",
       "2  eng_train_track_a_00003   \n",
       "3  eng_train_track_a_00004   \n",
       "4  eng_train_track_a_00005   \n",
       "\n",
       "                                                                                                                                                                                                text  \\\n",
       "0                                                                                                                                                                                But not very happy.   \n",
       "1  Well she's not gon na last the whole song like that, so since I'm behind her and the audience can't see below my torso pretty much, I use my hand to push down on the lid and support her weight.   \n",
       "2                                                                                                         She sat at her Papa's recliner sofa only to move next to me and start clinging to my arms.   \n",
       "3                                                                                                                                                                    Yes, the Oklahoma city bombing.   \n",
       "4                                                                                                                                                                       They were dancing to Bolero.   \n",
       "\n",
       "   Anger  Fear  Joy  Sadness  Surprise       comment  \n",
       "0      0     0    1        1         0  original_eng  \n",
       "1      0     0    1        0         0  original_eng  \n",
       "2      0     0    0        0         0  original_eng  \n",
       "3      1     1    0        1         1  original_eng  \n",
       "4      0     0    1        0         0  original_eng  "
      ]
     },
     "metadata": {},
     "output_type": "display_data"
    }
   ],
   "source": [
    "df_translated = pd.concat([original_eng] + list(data_translated.values()), ignore_index=True)\n",
    "df_translated.to_csv('df_translated.csv', index=False)\n",
    "display(df_translated.head())"
   ]
  },
  {
   "cell_type": "code",
   "execution_count": 95,
   "metadata": {},
   "outputs": [],
   "source": [
    "# df_translated = pd.read_csv('df_translated_cleaned.csv')"
   ]
  },
  {
   "cell_type": "code",
   "execution_count": 96,
   "metadata": {},
   "outputs": [],
   "source": [
    "# df_translated = df_translated[df_translated['comment'].isin(('backtranslate_de', 'original_eng'))].copy()"
   ]
  },
  {
   "cell_type": "code",
   "execution_count": 97,
   "metadata": {},
   "outputs": [],
   "source": [
    "MAX_LEN = original_eng.text.str.len().max()\n",
    "# MAX_LEN = df_translated.text.str.len().max()"
   ]
  },
  {
   "cell_type": "code",
   "execution_count": 98,
   "metadata": {},
   "outputs": [],
   "source": [
    "df_translated = df_translated.dropna(subset=['comment'])"
   ]
  },
  {
   "cell_type": "code",
   "execution_count": 99,
   "metadata": {},
   "outputs": [],
   "source": [
    "# Dataset definition\n",
    "class EmotionDataset(Dataset):\n",
    "    def __init__(self, data, tokenizer, max_len=128):\n",
    "        self.texts = data[\"text\"].tolist()\n",
    "        self.labels = data[[\"Anger\", \"Fear\", \"Joy\", \"Sadness\", \"Surprise\"]].values\n",
    "        self.tokenizer = tokenizer\n",
    "        self.max_len = max_len\n",
    "\n",
    "    def __len__(self):\n",
    "        return len(self.texts)\n",
    "\n",
    "    def __getitem__(self, idx):\n",
    "        text = self.texts[idx]\n",
    "        labels = torch.tensor(self.labels[idx], dtype=torch.float)\n",
    "        encodings = self.tokenizer(\n",
    "            text,\n",
    "            max_length=self.max_len,\n",
    "            padding=\"max_length\",\n",
    "            truncation=True,\n",
    "            return_tensors=\"pt\"\n",
    "        )\n",
    "        input_ids = encodings[\"input_ids\"].squeeze(0)\n",
    "        attention_mask = encodings[\"attention_mask\"].squeeze(0)\n",
    "        return (input_ids, attention_mask), labels\n",
    "\n",
    "class CorrelationAwareLoss(nn.Module):\n",
    "    def __init__(self, pos_weight, correlation_matrix, base_loss=nn.BCEWithLogitsLoss):\n",
    "        \"\"\"\n",
    "        Args:\n",
    "            pos_weight (torch.Tensor): Weights for positive samples of each class.\n",
    "            correlation_matrix (torch.Tensor): Correlation matrix of labels.\n",
    "            base_loss (nn.Module): Base loss function (default: BCEWithLogitsLoss).\n",
    "        \"\"\"\n",
    "        super(CorrelationAwareLoss, self).__init__()\n",
    "        self.pos_weight = pos_weight\n",
    "        self.correlation_matrix = correlation_matrix\n",
    "        self.base_loss = base_loss(pos_weight=self.pos_weight)\n",
    "\n",
    "    def forward(self, logits, labels):\n",
    "        # Compute the weighted BCEWithLogitsLoss\n",
    "        weighted_loss = self.base_loss(logits, labels)\n",
    "\n",
    "        # Compute pairwise correlation adjustment\n",
    "        preds = torch.sigmoid(logits)  # Convert logits to probabilities\n",
    "        batch_size = preds.size(0)\n",
    "\n",
    "        # Penalize based on how predictions align with label correlation\n",
    "        correlation_loss = torch.sum(\n",
    "            (preds.unsqueeze(2) - preds.unsqueeze(1)) * self.correlation_matrix.unsqueeze(0)\n",
    "        ) / batch_size\n",
    "\n",
    "        # Combine the base loss and correlation loss\n",
    "        return weighted_loss + 0.1 * correlation_loss"
   ]
  },
  {
   "cell_type": "code",
   "execution_count": 100,
   "metadata": {},
   "outputs": [],
   "source": [
    "DEBUG = None"
   ]
  },
  {
   "cell_type": "code",
   "execution_count": 101,
   "metadata": {},
   "outputs": [],
   "source": [
    "\n",
    "class RobertaMultiLabel(torch.nn.Module):\n",
    "    def __init__(self, num_labels):\n",
    "        super(RobertaMultiLabel, self).__init__()\n",
    "        self.bert = RobertaModel.from_pretrained(\"FacebookAI/roberta-base\", num_labels=num_labels)\n",
    "        self.dropout = nn.Dropout(0.1)\n",
    "        self.fc = nn.Linear(self.bert.config.hidden_size, num_labels)\n",
    "\n",
    "    def forward(self, x):\n",
    "        global DEBUG\n",
    "        input_ids, attention_mask = x\n",
    "        outputs = self.bert(input_ids=input_ids, attention_mask=attention_mask)\n",
    "        DEBUG = outputs\n",
    "\n",
    "        pooled_output = self.dropout(outputs.last_hidden_state[:, 0])\n",
    "        return self.fc(pooled_output)\n",
    "    "
   ]
  },
  {
   "cell_type": "code",
   "execution_count": 102,
   "metadata": {},
   "outputs": [],
   "source": [
    "# drop nas from the dataset where the text is missing\n",
    "df_translated = df_translated.dropna(subset=['text'])\n",
    "# df_translated = df_translated[df_translated['comment'] != 'backtranslate_de']"
   ]
  },
  {
   "cell_type": "code",
   "execution_count": 103,
   "metadata": {},
   "outputs": [
    {
     "data": {
      "application/vnd.jupyter.widget-view+json": {
       "model_id": "7481db1f4cca495a84ce453c8a2365ff",
       "version_major": 2,
       "version_minor": 0
      },
      "text/plain": [
       "tokenizer_config.json:   0%|          | 0.00/25.0 [00:00<?, ?B/s]"
      ]
     },
     "metadata": {},
     "output_type": "display_data"
    },
    {
     "data": {
      "application/vnd.jupyter.widget-view+json": {
       "model_id": "4e95c25287f44cf2a14a7e609f47739d",
       "version_major": 2,
       "version_minor": 0
      },
      "text/plain": [
       "vocab.json:   0%|          | 0.00/899k [00:00<?, ?B/s]"
      ]
     },
     "metadata": {},
     "output_type": "display_data"
    },
    {
     "data": {
      "application/vnd.jupyter.widget-view+json": {
       "model_id": "d380323cedd342ff92dd4847891689e7",
       "version_major": 2,
       "version_minor": 0
      },
      "text/plain": [
       "merges.txt:   0%|          | 0.00/456k [00:00<?, ?B/s]"
      ]
     },
     "metadata": {},
     "output_type": "display_data"
    },
    {
     "data": {
      "application/vnd.jupyter.widget-view+json": {
       "model_id": "770547d11ddc4cfd89a00ea94206b095",
       "version_major": 2,
       "version_minor": 0
      },
      "text/plain": [
       "tokenizer.json:   0%|          | 0.00/1.36M [00:00<?, ?B/s]"
      ]
     },
     "metadata": {},
     "output_type": "display_data"
    },
    {
     "data": {
      "application/vnd.jupyter.widget-view+json": {
       "model_id": "03c7c124505546378c196e519b32f90c",
       "version_major": 2,
       "version_minor": 0
      },
      "text/plain": [
       "config.json:   0%|          | 0.00/481 [00:00<?, ?B/s]"
      ]
     },
     "metadata": {},
     "output_type": "display_data"
    }
   ],
   "source": [
    "# train_data, valid_data = train_test_split(df_translated, test_size=0.25, random_state=42)\n",
    "train_data, valid_data = train_test_split(original_eng, test_size=0.25, random_state=42)\n",
    "\n",
    "tokenizer = RobertaTokenizer.from_pretrained('FacebookAI/roberta-base')"
   ]
  },
  {
   "cell_type": "code",
   "execution_count": 104,
   "metadata": {},
   "outputs": [],
   "source": [
    "labels = ['Anger', 'Fear', 'Joy', 'Sadness', 'Surprise']"
   ]
  },
  {
   "cell_type": "code",
   "execution_count": 105,
   "metadata": {},
   "outputs": [
    {
     "name": "stdout",
     "output_type": "stream",
     "text": [
      "Using device: cuda\n"
     ]
    },
    {
     "data": {
      "application/vnd.jupyter.widget-view+json": {
       "model_id": "b6eb7ac2fd084d119a0553a2b7a9f40d",
       "version_major": 2,
       "version_minor": 0
      },
      "text/plain": [
       "model.safetensors:   0%|          | 0.00/499M [00:00<?, ?B/s]"
      ]
     },
     "metadata": {},
     "output_type": "display_data"
    },
    {
     "name": "stderr",
     "output_type": "stream",
     "text": [
      "Some weights of RobertaModel were not initialized from the model checkpoint at FacebookAI/roberta-base and are newly initialized: ['roberta.pooler.dense.bias', 'roberta.pooler.dense.weight']\n",
      "You should probably TRAIN this model on a down-stream task to be able to use it for predictions and inference.\n",
      "/tmp/ipykernel_2950103/2857014135.py:26: UserWarning: To copy construct from a tensor, it is recommended to use sourceTensor.clone().detach() or sourceTensor.clone().detach().requires_grad_(True), rather than torch.tensor(sourceTensor).\n",
      "  pos_weight_tensor = torch.tensor(pos_weight, dtype=torch.float).to(device)\n"
     ]
    }
   ],
   "source": [
    "train_dataset = EmotionDataset(\n",
    "    train_data,\n",
    "    tokenizer\n",
    ")\n",
    "valid_dataset = EmotionDataset(\n",
    "    valid_data,\n",
    "    tokenizer\n",
    ")\n",
    "\n",
    "train_loader = DataLoader(train_dataset, batch_size=16, shuffle=True)\n",
    "valid_loader = DataLoader(valid_dataset, batch_size=16)\n",
    "\n",
    "# Define model and training components\n",
    "#device = torch.device(\"mps\") if torch.backends.mps.is_available() else torch.device(\"cpu\")\n",
    "device = torch.device(\"cuda\")\n",
    "print(f\"Using device: {device}\")\n",
    "model = RobertaMultiLabel(len(labels)).to(device)\n",
    "\n",
    "\n",
    "# Compute pos_weight for BCEWithLogitsLoss \n",
    "values = train_data[labels].values.tolist()\n",
    "labels_tensor = torch.tensor(values, dtype=torch.float)\n",
    "num_positives = labels_tensor.sum(dim=0)\n",
    "num_negatives = labels_tensor.shape[0] - num_positives\n",
    "pos_weight = num_negatives / num_positives\n",
    "pos_weight_tensor = torch.tensor(pos_weight, dtype=torch.float).to(device)\n",
    "\n",
    "# Define the loss function\n",
    "loss_func = torch.nn.BCEWithLogitsLoss(pos_weight=pos_weight_tensor)\n",
    "\n",
    "# loss_func = CorrelationAwareLoss(pos_weight=class_weights, correlation_matrix=correlation_matrix)\n",
    "# loss_func = nn.BCEWithLogitsLoss()\n"
   ]
  },
  {
   "cell_type": "code",
   "execution_count": 106,
   "metadata": {},
   "outputs": [],
   "source": [
    "# Add timestamp to the directory name\n",
    "timestamp = datetime.now().strftime('%Y-%m-%d_%H-%M-%S')\n",
    "name = \"roberta\"\n",
    "output_path = Path(f'model_{name}_{timestamp}')\n",
    "output_path.mkdir(exist_ok=True, parents=True)\n",
    "\n",
    "# FastAI DataLoaders\n",
    "dls = DataLoaders(train_loader, valid_loader, device=device)\n",
    "\n",
    "# Define Learner\n",
    "learn = Learner(\n",
    "    dls,\n",
    "    model,\n",
    "    loss_func=loss_func,\n",
    "    opt_func=partial(OptimWrapper, opt=torch.optim.AdamW),\n",
    "    metrics=[RocAuc()],\n",
    "    path=output_path\n",
    ")\n",
    "\n",
    "# Callbacks\n",
    "cbs = [\n",
    "    SaveModelCallback(monitor='valid_loss', fname='best_valid'),\n",
    "    EarlyStoppingCallback(monitor='valid_loss', patience=9),\n",
    "    CSVLogger()\n",
    "]"
   ]
  },
  {
   "cell_type": "code",
   "execution_count": 107,
   "metadata": {},
   "outputs": [
    {
     "data": {
      "text/html": [
       "\n",
       "<style>\n",
       "    /* Turns off some styling */\n",
       "    progress {\n",
       "        /* gets rid of default border in Firefox and Opera. */\n",
       "        border: none;\n",
       "        /* Needs to be in here for Safari polyfill so background images work as expected. */\n",
       "        background-size: auto;\n",
       "    }\n",
       "    progress:not([value]), progress:not([value])::-webkit-progress-bar {\n",
       "        background: repeating-linear-gradient(45deg, #7e7e7e, #7e7e7e 10px, #5c5c5c 10px, #5c5c5c 20px);\n",
       "    }\n",
       "    .progress-bar-interrupted, .progress-bar-interrupted::-webkit-progress-bar {\n",
       "        background: #F44336;\n",
       "    }\n",
       "</style>\n"
      ],
      "text/plain": [
       "<IPython.core.display.HTML object>"
      ]
     },
     "metadata": {},
     "output_type": "display_data"
    },
    {
     "data": {
      "text/html": [
       "<table border=\"1\" class=\"dataframe\">\n",
       "  <thead>\n",
       "    <tr style=\"text-align: left;\">\n",
       "      <th>epoch</th>\n",
       "      <th>train_loss</th>\n",
       "      <th>valid_loss</th>\n",
       "      <th>roc_auc_score</th>\n",
       "      <th>time</th>\n",
       "    </tr>\n",
       "  </thead>\n",
       "  <tbody>\n",
       "    <tr>\n",
       "      <td>0</td>\n",
       "      <td>0.867538</td>\n",
       "      <td>0.790802</td>\n",
       "      <td>0.811798</td>\n",
       "      <td>00:13</td>\n",
       "    </tr>\n",
       "    <tr>\n",
       "      <td>1</td>\n",
       "      <td>0.728845</td>\n",
       "      <td>0.657875</td>\n",
       "      <td>0.815406</td>\n",
       "      <td>00:13</td>\n",
       "    </tr>\n",
       "    <tr>\n",
       "      <td>2</td>\n",
       "      <td>0.576188</td>\n",
       "      <td>0.667373</td>\n",
       "      <td>0.826820</td>\n",
       "      <td>00:13</td>\n",
       "    </tr>\n",
       "    <tr>\n",
       "      <td>3</td>\n",
       "      <td>0.358431</td>\n",
       "      <td>0.714386</td>\n",
       "      <td>0.831559</td>\n",
       "      <td>00:13</td>\n",
       "    </tr>\n",
       "    <tr>\n",
       "      <td>4</td>\n",
       "      <td>0.228364</td>\n",
       "      <td>0.727233</td>\n",
       "      <td>0.833976</td>\n",
       "      <td>00:13</td>\n",
       "    </tr>\n",
       "  </tbody>\n",
       "</table>"
      ],
      "text/plain": [
       "<IPython.core.display.HTML object>"
      ]
     },
     "metadata": {},
     "output_type": "display_data"
    },
    {
     "name": "stdout",
     "output_type": "stream",
     "text": [
      "Better model found at epoch 0 with valid_loss value: 0.7908023595809937.\n",
      "Better model found at epoch 1 with valid_loss value: 0.6578747034072876.\n"
     ]
    }
   ],
   "source": [
    "learn.fit_one_cycle(n_epoch=5, reset_opt=True, lr_max=1e-4, wd=1e-2, cbs=cbs)"
   ]
  },
  {
   "cell_type": "code",
   "execution_count": 108,
   "metadata": {},
   "outputs": [
    {
     "data": {
      "image/png": "[encoded data removed]",
      "text/plain": [
       "<Figure size 640x480 with 1 Axes>"
      ]
     },
     "metadata": {},
     "output_type": "display_data"
    }
   ],
   "source": [
    "learn.recorder.plot_loss()\n",
    "plt.show()"
   ]
  },
  {
   "cell_type": "code",
   "execution_count": 109,
   "metadata": {},
   "outputs": [
    {
     "data": {
      "text/plain": [
       "Path('model_roberta_2025-02-04_15-57-10/models/model_last.pth')"
      ]
     },
     "execution_count": 109,
     "metadata": {},
     "output_type": "execute_result"
    }
   ],
   "source": [
    "# save learn model in pth format\n",
    "learn.save(f'model_last')\n"
   ]
  },
  {
   "cell_type": "code",
   "execution_count": 110,
   "metadata": {},
   "outputs": [],
   "source": [
    "# def predict_and_save_with_texts(learner, texts, output_csv):\n",
    "#     if learner.dls.valid is None:\n",
    "#         raise ValueError(\"The Learner does not have a validation DataLoader.\")\n",
    "    \n",
    "#     preds, targs = learner.get_preds(dl=learner.dls.valid)\n",
    "\n",
    "#     preds_binary = (preds > 0).int()\n",
    "\n",
    "#     results_df = pd.DataFrame({\n",
    "#         \"Text\": texts,\n",
    "#         \"True Labels\": [list(map(int, x)) for x in targs],\n",
    "#         \"Predicted Labels\": [list(map(int, x)) for x in preds_binary]\n",
    "#     })\n",
    "\n",
    "#     results_df.to_csv(output_csv, index=False)\n",
    "#     print(f\"Predictions saved to {output_csv}\")\n",
    "\n",
    "\n",
    "# results_path = Path(f\"results_{name}_{timestamp}\")\n",
    "# results_path.mkdir(exist_ok=True, parents=True)\n",
    "# output_csv = f\"{results_path}/validation_predictions.csv\"\n",
    "\n",
    "# # Load best model\n",
    "# best_model_path = output_path / 'models' / 'best_valid.pth'\n",
    "# #learn.load(best_model_path.stem)\n",
    "\n",
    "# # Get validation texts and make predictions\n",
    "# validation_texts = valid_data[\"text\"].tolist()\n",
    "# predict_and_save_with_texts(learn, validation_texts, output_csv=output_csv)\n"
   ]
  },
  {
   "cell_type": "code",
   "execution_count": 111,
   "metadata": {},
   "outputs": [
    {
     "data": {
      "text/html": [
       "<div>\n",
       "<style scoped>\n",
       "    .dataframe tbody tr th:only-of-type {\n",
       "        vertical-align: middle;\n",
       "    }\n",
       "\n",
       "    .dataframe tbody tr th {\n",
       "        vertical-align: top;\n",
       "    }\n",
       "\n",
       "    .dataframe thead th {\n",
       "        text-align: right;\n",
       "    }\n",
       "</style>\n",
       "<table border=\"1\" class=\"dataframe\">\n",
       "  <thead>\n",
       "    <tr style=\"text-align: right;\">\n",
       "      <th></th>\n",
       "      <th>id</th>\n",
       "      <th>text</th>\n",
       "      <th>anger</th>\n",
       "      <th>fear</th>\n",
       "      <th>joy</th>\n",
       "      <th>sadness</th>\n",
       "      <th>surprise</th>\n",
       "    </tr>\n",
       "  </thead>\n",
       "  <tbody>\n",
       "    <tr>\n",
       "      <th>0</th>\n",
       "      <td>eng_dev_track_a_00001</td>\n",
       "      <td>Older sister (23 at the time) is a Scumbag Stacy.</td>\n",
       "      <td>1</td>\n",
       "      <td>0</td>\n",
       "      <td>0</td>\n",
       "      <td>0</td>\n",
       "      <td>0</td>\n",
       "    </tr>\n",
       "    <tr>\n",
       "      <th>1</th>\n",
       "      <td>eng_dev_track_a_00002</td>\n",
       "      <td>And I laughed like this: garhahagar, because my mouth was full of cotton and shit to bite down on and sharp objects and drills.</td>\n",
       "      <td>0</td>\n",
       "      <td>1</td>\n",
       "      <td>0</td>\n",
       "      <td>0</td>\n",
       "      <td>0</td>\n",
       "    </tr>\n",
       "    <tr>\n",
       "      <th>2</th>\n",
       "      <td>eng_dev_track_a_00003</td>\n",
       "      <td>It overflowed and brown shitty diarrhea water came flooding under the stall wall into my wife's stall.</td>\n",
       "      <td>1</td>\n",
       "      <td>1</td>\n",
       "      <td>0</td>\n",
       "      <td>1</td>\n",
       "      <td>1</td>\n",
       "    </tr>\n",
       "    <tr>\n",
       "      <th>3</th>\n",
       "      <td>eng_dev_track_a_00004</td>\n",
       "      <td>Its very dark and foggy.</td>\n",
       "      <td>0</td>\n",
       "      <td>1</td>\n",
       "      <td>0</td>\n",
       "      <td>0</td>\n",
       "      <td>0</td>\n",
       "    </tr>\n",
       "    <tr>\n",
       "      <th>4</th>\n",
       "      <td>eng_dev_track_a_00005</td>\n",
       "      <td>Then she tried to, like, have sex with/strangle everyone.</td>\n",
       "      <td>1</td>\n",
       "      <td>1</td>\n",
       "      <td>0</td>\n",
       "      <td>0</td>\n",
       "      <td>1</td>\n",
       "    </tr>\n",
       "  </tbody>\n",
       "</table>\n",
       "</div>"
      ],
      "text/plain": [
       "                      id  \\\n",
       "0  eng_dev_track_a_00001   \n",
       "1  eng_dev_track_a_00002   \n",
       "2  eng_dev_track_a_00003   \n",
       "3  eng_dev_track_a_00004   \n",
       "4  eng_dev_track_a_00005   \n",
       "\n",
       "                                                                                                                              text  \\\n",
       "0                                                                                Older sister (23 at the time) is a Scumbag Stacy.   \n",
       "1  And I laughed like this: garhahagar, because my mouth was full of cotton and shit to bite down on and sharp objects and drills.   \n",
       "2                           It overflowed and brown shitty diarrhea water came flooding under the stall wall into my wife's stall.   \n",
       "3                                                                                                         Its very dark and foggy.   \n",
       "4                                                                        Then she tried to, like, have sex with/strangle everyone.   \n",
       "\n",
       "   anger  fear  joy  sadness  surprise  \n",
       "0      1     0    0        0         0  \n",
       "1      0     1    0        0         0  \n",
       "2      1     1    0        1         1  \n",
       "3      0     1    0        0         0  \n",
       "4      1     1    0        0         1  "
      ]
     },
     "execution_count": 111,
     "metadata": {},
     "output_type": "execute_result"
    }
   ],
   "source": [
    "\n",
    "dev_df = pd.read_csv('public_data_test/track_a/dev/eng.csv')\n",
    "# dev_df = valid_data\n",
    "dev_df.head()\n"
   ]
  },
  {
   "cell_type": "code",
   "execution_count": 112,
   "metadata": {},
   "outputs": [
    {
     "name": "stderr",
     "output_type": "stream",
     "text": [
      "/mnt/bulk-sirius/anton/coding/SemEval/.venv/lib/python3.12/site-packages/fastai/learner.py:61: UserWarning: Saved file doesn't contain an optimizer state.\n",
      "  elif with_opt: warn(\"Saved file doesn't contain an optimizer state.\")\n"
     ]
    },
    {
     "name": "stdout",
     "output_type": "stream",
     "text": [
      "Predictions saved to results_roberta_2025-02-04_15-57-10/dev_predictions.csv\n"
     ]
    }
   ],
   "source": [
    "# Function to preprocess and predict\n",
    "def predict_classes(learner, texts, tokenizer, max_len=128):\n",
    "    predictions = []\n",
    "\n",
    "    learner.model.eval()\n",
    "    with torch.no_grad():\n",
    "        for text in texts:\n",
    "            # Tokenize and prepare input\n",
    "            encoded = tokenizer(\n",
    "                text,\n",
    "                padding=\"max_length\",\n",
    "                truncation=True,\n",
    "                max_length=max_len,\n",
    "                return_tensors=\"pt\"\n",
    "            )\n",
    "            input_ids = encoded[\"input_ids\"].to(device)\n",
    "            attention_mask = encoded[\"attention_mask\"].to(device)\n",
    "\n",
    "            # Make predictions\n",
    "            logits = learner.model((input_ids, attention_mask))\n",
    "            probs = torch.sigmoid(logits)  # Multi-label classification\n",
    "            predicted_labels = (probs > 0.5).int().tolist()[0]  # Binary predictions\n",
    "            # predicted_labels = (logits > 0).int().tolist()[0]  # Binary predictions\n",
    "\n",
    "            predictions.append(predicted_labels)\n",
    "    return predictions\n",
    "\n",
    "\n",
    "# Load best model\n",
    "best_model_path = output_path / 'models' / 'best_valid.pth'\n",
    "learn.load(best_model_path.stem)\n",
    "\n",
    "\n",
    "# Apply the model to the dataset\n",
    "# drop dev_df with missing text\n",
    "dev_df = dev_df.dropna(subset=['text'])\n",
    "texts = dev_df[\"text\"].tolist()  # Handle missing texts\n",
    "predictions = predict_classes(learn, texts, tokenizer)\n",
    "\n",
    "# Add predictions to the DataFrame\n",
    "emotion_labels = [\"pred_anger\", \"pred_fear\", \"pred_joy\", \"pred_sadness\", \"pred_surprise\"]\n",
    "prediction_df = pd.DataFrame(predictions, columns=emotion_labels)\n",
    "dev_df[emotion_labels] = prediction_df.values\n",
    "\n",
    "# Save the true and predicted labels as string lists\n",
    "# dev_df[\"True Labels\"] = dev_df[[\"Anger\", \"Fear\", \"Joy\", \"Sadness\", \"Surprise\"]].values.tolist()\n",
    "dev_df[\"True Labels\"] = dev_df[[\"anger\", \"fear\", \"joy\", \"sadness\", \"surprise\"]].values.tolist()\n",
    "\n",
    "dev_df[\"Predicted Labels\"] = dev_df[emotion_labels].values.tolist()\n",
    "\n",
    "# Convert lists to strings\n",
    "dev_df[\"True Labels\"] = dev_df[\"True Labels\"].apply(lambda x: str(x))\n",
    "dev_df[\"Predicted Labels\"] = dev_df[\"Predicted Labels\"].apply(lambda x: str(x))\n",
    "\n",
    "# Save the updated DataFrame to a new file\n",
    "results_path = Path(f\"results_{name}_{timestamp}\")\n",
    "results_path.mkdir(exist_ok=True, parents=True)\n",
    "output_csv = f\"{results_path}/dev_predictions.csv\"\n",
    "\n",
    "dev_df.to_csv(output_csv, index=False)\n",
    "\n",
    "print(f\"Predictions saved to {output_csv}\")"
   ]
  },
  {
   "cell_type": "code",
   "execution_count": null,
   "metadata": {},
   "outputs": [],
   "source": []
  },
  {
   "cell_type": "code",
   "execution_count": null,
   "metadata": {},
   "outputs": [],
   "source": []
  }
 ],
 "metadata": {
  "kernelspec": {
   "display_name": ".venv",
   "language": "python",
   "name": "python3"
  },
  "language_info": {
   "codemirror_mode": {
    "name": "ipython",
    "version": 3
   },
   "file_extension": ".py",
   "mimetype": "text/x-python",
   "name": "python",
   "nbconvert_exporter": "python",
   "pygments_lexer": "ipython3",
   "version": "3.12.7"
  }
 },
 "nbformat": 4,
 "nbformat_minor": 2
}

{
 "cells": [
  {
   "cell_type": "code",
   "execution_count": 1,
   "metadata": {},
   "outputs": [
    {
     "name": "stderr",
     "output_type": "stream",
     "text": [
      "c:\\Users\\79217\\Documents\\TUD\\3 semester\\LLM\\SemEval\\.venv\\Lib\\site-packages\\tqdm\\auto.py:21: TqdmWarning: IProgress not found. Please update jupyter and ipywidgets. See https://ipywidgets.readthedocs.io/en/stable/user_install.html\n",
      "  from .autonotebook import tqdm as notebook_tqdm\n"
     ]
    }
   ],
   "source": [
    "import matplotlib.pyplot as plt\n",
    "import pandas as pd\n",
    "import torch\n",
    "from sklearn.model_selection import train_test_split\n",
    "from torch import nn\n",
    "from torch.utils.data import DataLoader, Dataset\n",
    "from tqdm import tqdm\n",
    "from transformers import T5ForConditionalGeneration, T5Tokenizer"
   ]
  },
  {
   "cell_type": "code",
   "execution_count": 2,
   "metadata": {},
   "outputs": [],
   "source": [
    "DATA_PATH = \"./public_data/train/track_a/eng.csv\"\n",
    "\n",
    "class EmotionDataset(Dataset):\n",
    "    def __init__(self, data, tokenizer, max_len=128):\n",
    "        self.texts = data[\"text\"].tolist()\n",
    "        self.labels = data[[\"Anger\", \"Fear\", \"Joy\", \"Sadness\", \"Surprise\"]].values\n",
    "        self.tokenizer = tokenizer\n",
    "        self.max_len = max_len\n",
    "\n",
    "    def __len__(self):\n",
    "        return len(self.texts)\n",
    "\n",
    "    def __getitem__(self, idx):\n",
    "        text = self.texts[idx]\n",
    "        labels = torch.tensor(self.labels[idx], dtype=torch.float)  # Use float for BCEWithLogitsLoss\n",
    "        input_encodings = self.tokenizer(\n",
    "            text,\n",
    "            max_length=self.max_len,\n",
    "            padding=\"max_length\",\n",
    "            truncation=True,\n",
    "            return_tensors=\"pt\"\n",
    "        )\n",
    "        input_ids = input_encodings[\"input_ids\"].squeeze(0)\n",
    "        attention_mask = input_encodings[\"attention_mask\"].squeeze(0)\n",
    "        return (input_ids, attention_mask), labels\n",
    "\n",
    "# Model definition\n",
    "class T5EmotionClassifier(nn.Module):\n",
    "    def __init__(self, model_name=\"t5-small\", num_classes=5):\n",
    "        super(T5EmotionClassifier, self).__init__()\n",
    "        self.encoder = T5ForConditionalGeneration.from_pretrained(model_name).encoder  # Use only the encoder\n",
    "        self.num_classes = num_classes\n",
    "        self.fc = nn.Linear(self.encoder.config.hidden_size, num_classes)  # Add a classification head\n",
    "\n",
    "    def forward(self, input_ids, attention_mask=None):\n",
    "        # Get the encoder outputs\n",
    "        encoder_outputs = self.encoder(input_ids=input_ids, attention_mask=attention_mask)\n",
    "        \n",
    "        # Take the output of the first token (classification token)\n",
    "        cls_output = encoder_outputs.last_hidden_state[:, 0, :]  # Shape: [batch_size, hidden_size]\n",
    "        self.dropout = nn.Dropout(0.3)\n",
    "        cls_output = self.dropout(cls_output)\n",
    "        \n",
    "        # Pass through the classification head\n",
    "        logits = self.fc(cls_output)  # Shape: [batch_size, num_classes]\n",
    "        \n",
    "        return logits\n",
    "    \n",
    "class CorrelationAwareLoss(nn.Module):\n",
    "    def __init__(self, pos_weight, correlation_matrix, base_loss=nn.BCEWithLogitsLoss):\n",
    "        \"\"\"\n",
    "        Args:\n",
    "            pos_weight (torch.Tensor): Weights for positive samples of each class.\n",
    "            correlation_matrix (torch.Tensor): Correlation matrix of labels.\n",
    "            base_loss (nn.Module): Base loss function (default: BCEWithLogitsLoss).\n",
    "        \"\"\"\n",
    "        super(CorrelationAwareLoss, self).__init__()\n",
    "        self.pos_weight = pos_weight\n",
    "        self.correlation_matrix = correlation_matrix\n",
    "        self.base_loss = base_loss(pos_weight=self.pos_weight)\n",
    "\n",
    "    def forward(self, logits, labels):\n",
    "        # Compute the weighted BCEWithLogitsLoss\n",
    "        weighted_loss = self.base_loss(logits, labels)\n",
    "\n",
    "        # Compute pairwise correlation adjustment\n",
    "        preds = torch.sigmoid(logits)  # Convert logits to probabilities\n",
    "        batch_size = preds.size(0)\n",
    "\n",
    "        # Penalize based on how predictions align with label correlation\n",
    "        correlation_loss = torch.sum(\n",
    "            (preds.unsqueeze(2) - preds.unsqueeze(1)) * self.correlation_matrix.unsqueeze(0)\n",
    "        ) / batch_size\n",
    "\n",
    "        # Combine the base loss and correlation loss\n",
    "        return weighted_loss + 0.1 * correlation_loss"
   ]
  },
  {
   "cell_type": "code",
   "execution_count": 3,
   "metadata": {},
   "outputs": [
    {
     "name": "stderr",
     "output_type": "stream",
     "text": [
      "You are using the default legacy behaviour of the <class 'transformers.models.t5.tokenization_t5.T5Tokenizer'>. This is expected, and simply means that the `legacy` (previous) behavior will be used so nothing changes for you. If you want to use the new behaviour, set `legacy=False`. This should only be set if you understand what it means, and thoroughly read the reason why this was added as explained in https://github.com/huggingface/transformers/pull/24565\n"
     ]
    },
    {
     "name": "stdout",
     "output_type": "stream",
     "text": [
      "Using device: cpu\n"
     ]
    }
   ],
   "source": [
    "# Load data\n",
    "data = pd.read_csv(DATA_PATH)\n",
    "\n",
    "# Prepare train and validation sets\n",
    "train_data, valid_data = train_test_split(data, test_size=0.25, random_state=42)\n",
    "tokenizer = T5Tokenizer.from_pretrained(\"t5-small\")\n",
    "\n",
    "train_dataset = EmotionDataset(\n",
    "    train_data,\n",
    "    tokenizer\n",
    ")\n",
    "valid_dataset = EmotionDataset(\n",
    "    valid_data,\n",
    "    tokenizer\n",
    ")\n",
    "\n",
    "train_loader = DataLoader(train_dataset, batch_size=16, shuffle=True)\n",
    "valid_loader = DataLoader(valid_dataset, batch_size=16)\n",
    "\n",
    "# Define model and training components\n",
    "device = torch.device(\"mps\") if torch.backends.mps.is_available() else torch.device(\"cpu\")\n",
    "print(f\"Using device: {device}\")\n",
    "\n",
    "model = T5EmotionClassifier().to(device)\n",
    "labels = [\"Anger\", \"Fear\", \"Joy\", \"Sadness\", \"Surprise\"]\n",
    "class_weights = 1.0 / train_data[labels].mean()\n",
    "class_weights = torch.tensor(class_weights.values, device=device, dtype=torch.float)\n",
    "correlation_matrix = data[labels].corr()\n",
    "correlation_matrix = torch.tensor(correlation_matrix.values, dtype=torch.float, device=device)\n",
    "\n",
    "loss_func = CorrelationAwareLoss(pos_weight=class_weights, correlation_matrix=correlation_matrix)\n"
   ]
  },
  {
   "cell_type": "code",
   "execution_count": 12,
   "metadata": {},
   "outputs": [
    {
     "name": "stdout",
     "output_type": "stream",
     "text": [
      "Epoch 1/3\n"
     ]
    },
    {
     "name": "stderr",
     "output_type": "stream",
     "text": [
      "                                                                       \r"
     ]
    },
    {
     "name": "stdout",
     "output_type": "stream",
     "text": [
      "Epoch 1: Train Loss = 1.0564, Validation Loss = 1.0425\n",
      "Epoch 2/3\n"
     ]
    },
    {
     "name": "stderr",
     "output_type": "stream",
     "text": [
      "                                                                       \r"
     ]
    },
    {
     "name": "stdout",
     "output_type": "stream",
     "text": [
      "Epoch 2: Train Loss = 1.0142, Validation Loss = 1.0015\n",
      "Epoch 3/3\n"
     ]
    },
    {
     "name": "stderr",
     "output_type": "stream",
     "text": [
      "                                                                       \r"
     ]
    },
    {
     "name": "stdout",
     "output_type": "stream",
     "text": [
      "Epoch 3: Train Loss = 0.9574, Validation Loss = 0.9529\n",
      "Epoch 4/3\n"
     ]
    },
    {
     "name": "stderr",
     "output_type": "stream",
     "text": [
      "                                                                       \r"
     ]
    },
    {
     "name": "stdout",
     "output_type": "stream",
     "text": [
      "Epoch 4: Train Loss = 0.8945, Validation Loss = 0.9221\n",
      "Epoch 5/3\n"
     ]
    },
    {
     "name": "stderr",
     "output_type": "stream",
     "text": [
      "                                                                       \r"
     ]
    },
    {
     "name": "stdout",
     "output_type": "stream",
     "text": [
      "Epoch 5: Train Loss = 0.8320, Validation Loss = 0.9057\n",
      "Epoch 6/3\n"
     ]
    },
    {
     "name": "stderr",
     "output_type": "stream",
     "text": [
      "                                                                       \r"
     ]
    },
    {
     "name": "stdout",
     "output_type": "stream",
     "text": [
      "Epoch 6: Train Loss = 0.7783, Validation Loss = 0.9025\n",
      "Epoch 7/3\n"
     ]
    },
    {
     "name": "stderr",
     "output_type": "stream",
     "text": [
      "                                                                       \r"
     ]
    },
    {
     "name": "stdout",
     "output_type": "stream",
     "text": [
      "Epoch 7: Train Loss = 0.7184, Validation Loss = 0.9218\n",
      "Epoch 8/3\n"
     ]
    },
    {
     "name": "stderr",
     "output_type": "stream",
     "text": [
      "                                                                       \r"
     ]
    },
    {
     "name": "stdout",
     "output_type": "stream",
     "text": [
      "Epoch 8: Train Loss = 0.6637, Validation Loss = 0.9313\n",
      "Epoch 9/3\n"
     ]
    },
    {
     "name": "stderr",
     "output_type": "stream",
     "text": [
      "                                                                       \r"
     ]
    },
    {
     "name": "stdout",
     "output_type": "stream",
     "text": [
      "Epoch 9: Train Loss = 0.6236, Validation Loss = 0.9448\n",
      "Epoch 10/3\n"
     ]
    },
    {
     "name": "stderr",
     "output_type": "stream",
     "text": [
      "                                                                       "
     ]
    },
    {
     "name": "stdout",
     "output_type": "stream",
     "text": [
      "Epoch 10: Train Loss = 0.5836, Validation Loss = 0.9614\n"
     ]
    },
    {
     "name": "stderr",
     "output_type": "stream",
     "text": [
      "\r"
     ]
    }
   ],
   "source": [
    "optimizer = torch.optim.AdamW(model.parameters(), lr=1e-4)\n",
    "\n",
    "train_losses = []\n",
    "valid_losses = []\n",
    "\n",
    "num_epochs = 10\n",
    "for epoch in range(num_epochs): \n",
    "    print(f\"Epoch {epoch + 1}/{num_epochs}\")\n",
    "    \n",
    "    # Training phase\n",
    "    model.train()\n",
    "    running_train_loss = 0.0\n",
    "    train_loader_tqdm = tqdm(train_loader, desc=\"Training\", leave=False)\n",
    "    for batch in train_loader_tqdm:\n",
    "        (input_ids, attention_mask), labels = batch\n",
    "\n",
    "        input_ids = input_ids.to(device, dtype=torch.long)\n",
    "        attention_mask = attention_mask.to(device, dtype=torch.long)\n",
    "        labels = labels.to(device, dtype=torch.float)\n",
    "\n",
    "        optimizer.zero_grad()\n",
    "        \n",
    "        logits = model(input_ids=input_ids, attention_mask=attention_mask)\n",
    "        loss = loss_func(logits, labels)\n",
    "        \n",
    "        loss.backward()\n",
    "        optimizer.step()\n",
    "        \n",
    "        running_train_loss += loss.item()\n",
    "        train_loader_tqdm.set_postfix(loss=loss.item())\n",
    "    \n",
    "    avg_train_loss = running_train_loss / len(train_loader)\n",
    "    train_losses.append(avg_train_loss)\n",
    "\n",
    "    model.eval()\n",
    "    running_valid_loss = 0.0\n",
    "    valid_loader_tqdm = tqdm(valid_loader, desc=\"Validating\", leave=False)\n",
    "    with torch.no_grad():\n",
    "        for batch in valid_loader_tqdm:\n",
    "            (input_ids, attention_mask), labels = batch\n",
    "\n",
    "            # Ensure correct data types\n",
    "            input_ids = input_ids.to(device, dtype=torch.long)\n",
    "            attention_mask = attention_mask.to(device, dtype=torch.long)\n",
    "            labels = labels.to(device, dtype=torch.float)\n",
    "            \n",
    "            # Forward pass\n",
    "            logits = model(input_ids=input_ids, attention_mask=attention_mask)\n",
    "            \n",
    "            # Compute loss\n",
    "            loss = loss_func(logits, labels)\n",
    "            running_valid_loss += loss.item()\n",
    "            valid_loader_tqdm.set_postfix(loss=loss.item())\n",
    "\n",
    "    avg_valid_loss = running_valid_loss / len(valid_loader)\n",
    "    valid_losses.append(avg_valid_loss)\n",
    "\n",
    "    print(f\"Epoch {epoch + 1}: Train Loss = {avg_train_loss:.4f}, Validation Loss = {avg_valid_loss:.4f}\")"
   ]
  },
  {
   "cell_type": "code",
   "execution_count": 13,
   "metadata": {},
   "outputs": [
    {
     "data": {
      "image/png": "[encoded data removed]",
      "text/plain": [
       "<Figure size 800x600 with 1 Axes>"
      ]
     },
     "metadata": {},
     "output_type": "display_data"
    }
   ],
   "source": [
    "plt.figure(figsize=(8, 6))\n",
    "plt.plot(train_losses, label='Training Loss')\n",
    "plt.plot(valid_losses, label='Validation Loss')\n",
    "plt.xlabel('Epochs')\n",
    "plt.ylabel('Loss')\n",
    "plt.title('Learning Curves')\n",
    "plt.legend()\n",
    "plt.grid(True)\n",
    "plt.show()"
   ]
  },
  {
   "cell_type": "code",
   "execution_count": 14,
   "metadata": {},
   "outputs": [],
   "source": [
    "def predict_and_save_with_texts(model, dataloader, texts, output_csv, threshold=0.5):\n",
    "    \"\"\"\n",
    "    Predicts binary labels using the T5 model, processes logits into probabilities, and saves the results to a CSV.\n",
    "    \n",
    "    Args:\n",
    "        model (torch.nn.Module): The T5 model.\n",
    "        dataloader (DataLoader): DataLoader for the validation set.\n",
    "        texts (list): List of original texts corresponding to the validation set.\n",
    "        output_csv (str): Path to save the predictions.\n",
    "        threshold (float): Threshold for converting probabilities to binary labels.\n",
    "    \n",
    "    Returns:\n",
    "        None\n",
    "    \"\"\"\n",
    "    model.eval()\n",
    "    predictions = []\n",
    "    true_labels = []\n",
    "    \n",
    "    with torch.no_grad():\n",
    "        for batch in tqdm(dataloader, desc=\"Generating Predictions\"):\n",
    "            (input_ids, attention_mask), labels = batch\n",
    "\n",
    "            # Move tensors to device\n",
    "            input_ids = input_ids.to(device)\n",
    "            attention_mask = attention_mask.to(device)\n",
    "            \n",
    "            # Forward pass\n",
    "            logits = model(input_ids=input_ids, attention_mask=attention_mask)\n",
    "            \n",
    "            # Apply sigmoid to get probabilities\n",
    "            probs = torch.sigmoid(logits)\n",
    "            \n",
    "            # Store binary predictions and true labels\n",
    "            binary_preds = (probs > threshold).int()\n",
    "            predictions.append(binary_preds.cpu())\n",
    "            true_labels.append(labels.cpu())\n",
    "    \n",
    "    preds = torch.cat(predictions)  # Binary predictions\n",
    "    targs = torch.cat(true_labels)  # True labels\n",
    "\n",
    "    results_df = pd.DataFrame({\n",
    "        \"Text\": texts,\n",
    "        \"True Labels\": [list(map(int, x)) for x in targs.numpy()],\n",
    "        \"Predicted Labels\": [list(map(int, x)) for x in preds.numpy()]\n",
    "    })\n",
    "\n",
    "    results_df.to_csv(output_csv, index=False)\n",
    "    print(f\"Predictions saved to {output_csv}\")\n"
   ]
  },
  {
   "cell_type": "code",
   "execution_count": 15,
   "metadata": {},
   "outputs": [
    {
     "name": "stderr",
     "output_type": "stream",
     "text": [
      "Generating Predictions:   0%|          | 0/44 [00:00<?, ?it/s]"
     ]
    },
    {
     "name": "stderr",
     "output_type": "stream",
     "text": [
      "Generating Predictions: 100%|██████████| 44/44 [01:13<00:00,  1.66s/it]"
     ]
    },
    {
     "name": "stdout",
     "output_type": "stream",
     "text": [
      "Predictions saved to results/validation_predictions_with_texts.csv\n"
     ]
    },
    {
     "name": "stderr",
     "output_type": "stream",
     "text": [
      "\n"
     ]
    }
   ],
   "source": [
    "validation_texts = valid_data[\"text\"].tolist()\n",
    "output_csv = \"results/validation_predictions_with_texts.csv\"\n",
    "\n",
    "# Call the function\n",
    "predict_and_save_with_texts(\n",
    "    model=model, \n",
    "    dataloader=valid_loader, \n",
    "    texts=validation_texts, \n",
    "    output_csv=output_csv\n",
    ")"
   ]
  },
  {
   "cell_type": "code",
   "execution_count": null,
   "metadata": {},
   "outputs": [],
   "source": []
  }
 ],
 "metadata": {
  "kernelspec": {
   "display_name": ".venv",
   "language": "python",
   "name": "python3"
  },
  "language_info": {
   "codemirror_mode": {
    "name": "ipython",
    "version": 3
   },
   "file_extension": ".py",
   "mimetype": "text/x-python",
   "name": "python",
   "nbconvert_exporter": "python",
   "pygments_lexer": "ipython3",
   "version": "3.12.8"
  }
 },
 "nbformat": 4,
 "nbformat_minor": 2
}

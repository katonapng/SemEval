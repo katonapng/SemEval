{
 "cells": [
  {
   "cell_type": "code",
   "execution_count": 1,
   "metadata": {},
   "outputs": [],
   "source": [
    "import os\n",
    "import warnings\n",
    "from collections import Counter\n",
    "from datetime import datetime\n",
    "from functools import partial\n",
    "from pathlib import Path\n",
    "\n",
    "import matplotlib.pyplot as plt\n",
    "import pandas as pd\n",
    "import seaborn as sns\n",
    "import torch\n",
    "from deep_translator import GoogleTranslator\n",
    "from fastai.callback.progress import CSVLogger\n",
    "from fastai.callback.tracker import EarlyStoppingCallback, SaveModelCallback\n",
    "from fastai.learner import DataLoaders\n",
    "from fastai.metrics import RocAuc\n",
    "from fastai.optimizer import OptimWrapper\n",
    "from fastai.vision.all import Learner\n",
    "from sentence_transformers import SentenceTransformer, util\n",
    "from sklearn.model_selection import train_test_split\n",
    "from torch import nn\n",
    "from torch.utils.data import DataLoader, Dataset\n",
    "from tqdm import tqdm\n",
    "from transformers import RobertaTokenizerFast, RobertaModel"
   ]
  },
  {
   "cell_type": "code",
   "execution_count": 2,
   "metadata": {},
   "outputs": [],
   "source": [
    "warnings.filterwarnings(\"ignore\", category=FutureWarning)"
   ]
  },
  {
   "cell_type": "code",
   "execution_count": 3,
   "metadata": {},
   "outputs": [],
   "source": [
    "import pickle\n",
    "SIM_THRESHOLD = 0.80\n",
    "# 5/0\n",
    "data_translated = {}\n",
    "with open('data_translated.pkl', 'rb') as f:\n",
    "    data_translated = pickle.load(f)"
   ]
  },
  {
   "cell_type": "code",
   "execution_count": 4,
   "metadata": {},
   "outputs": [],
   "source": [
    "original_eng = pd.read_csv('public_data/train/track_a/eng.csv')\n",
    "original_eng['comment'] = 'original_eng'"
   ]
  },
  {
   "cell_type": "code",
   "execution_count": 5,
   "metadata": {},
   "outputs": [
    {
     "data": {
      "text/html": [
       "<div>\n",
       "<style scoped>\n",
       "    .dataframe tbody tr th:only-of-type {\n",
       "        vertical-align: middle;\n",
       "    }\n",
       "\n",
       "    .dataframe tbody tr th {\n",
       "        vertical-align: top;\n",
       "    }\n",
       "\n",
       "    .dataframe thead th {\n",
       "        text-align: right;\n",
       "    }\n",
       "</style>\n",
       "<table border=\"1\" class=\"dataframe\">\n",
       "  <thead>\n",
       "    <tr style=\"text-align: right;\">\n",
       "      <th></th>\n",
       "      <th>id</th>\n",
       "      <th>text</th>\n",
       "      <th>Anger</th>\n",
       "      <th>Fear</th>\n",
       "      <th>Joy</th>\n",
       "      <th>Sadness</th>\n",
       "      <th>Surprise</th>\n",
       "      <th>comment</th>\n",
       "    </tr>\n",
       "  </thead>\n",
       "  <tbody>\n",
       "    <tr>\n",
       "      <th>0</th>\n",
       "      <td>eng_train_track_a_00001</td>\n",
       "      <td>But not very happy.</td>\n",
       "      <td>0</td>\n",
       "      <td>0</td>\n",
       "      <td>1</td>\n",
       "      <td>1</td>\n",
       "      <td>0</td>\n",
       "      <td>original_eng</td>\n",
       "    </tr>\n",
       "    <tr>\n",
       "      <th>1</th>\n",
       "      <td>eng_train_track_a_00002</td>\n",
       "      <td>Well she's not gon na last the whole song like that, so since I'm behind her and the audience can't see below my torso pretty much, I use my hand to push down on the lid and support her weight.</td>\n",
       "      <td>0</td>\n",
       "      <td>0</td>\n",
       "      <td>1</td>\n",
       "      <td>0</td>\n",
       "      <td>0</td>\n",
       "      <td>original_eng</td>\n",
       "    </tr>\n",
       "    <tr>\n",
       "      <th>2</th>\n",
       "      <td>eng_train_track_a_00003</td>\n",
       "      <td>She sat at her Papa's recliner sofa only to move next to me and start clinging to my arms.</td>\n",
       "      <td>0</td>\n",
       "      <td>0</td>\n",
       "      <td>0</td>\n",
       "      <td>0</td>\n",
       "      <td>0</td>\n",
       "      <td>original_eng</td>\n",
       "    </tr>\n",
       "    <tr>\n",
       "      <th>3</th>\n",
       "      <td>eng_train_track_a_00004</td>\n",
       "      <td>Yes, the Oklahoma city bombing.</td>\n",
       "      <td>1</td>\n",
       "      <td>1</td>\n",
       "      <td>0</td>\n",
       "      <td>1</td>\n",
       "      <td>1</td>\n",
       "      <td>original_eng</td>\n",
       "    </tr>\n",
       "    <tr>\n",
       "      <th>4</th>\n",
       "      <td>eng_train_track_a_00005</td>\n",
       "      <td>They were dancing to Bolero.</td>\n",
       "      <td>0</td>\n",
       "      <td>0</td>\n",
       "      <td>1</td>\n",
       "      <td>0</td>\n",
       "      <td>0</td>\n",
       "      <td>original_eng</td>\n",
       "    </tr>\n",
       "  </tbody>\n",
       "</table>\n",
       "</div>"
      ],
      "text/plain": [
       "                        id  \\\n",
       "0  eng_train_track_a_00001   \n",
       "1  eng_train_track_a_00002   \n",
       "2  eng_train_track_a_00003   \n",
       "3  eng_train_track_a_00004   \n",
       "4  eng_train_track_a_00005   \n",
       "\n",
       "                                                                                                                                                                                                text  \\\n",
       "0                                                                                                                                                                                But not very happy.   \n",
       "1  Well she's not gon na last the whole song like that, so since I'm behind her and the audience can't see below my torso pretty much, I use my hand to push down on the lid and support her weight.   \n",
       "2                                                                                                         She sat at her Papa's recliner sofa only to move next to me and start clinging to my arms.   \n",
       "3                                                                                                                                                                    Yes, the Oklahoma city bombing.   \n",
       "4                                                                                                                                                                       They were dancing to Bolero.   \n",
       "\n",
       "   Anger  Fear  Joy  Sadness  Surprise       comment  \n",
       "0      0     0    1        1         0  original_eng  \n",
       "1      0     0    1        0         0  original_eng  \n",
       "2      0     0    0        0         0  original_eng  \n",
       "3      1     1    0        1         1  original_eng  \n",
       "4      0     0    1        0         0  original_eng  "
      ]
     },
     "metadata": {},
     "output_type": "display_data"
    }
   ],
   "source": [
    "df_translated = pd.concat([original_eng] + list(data_translated.values()), ignore_index=True)\n",
    "df_translated.to_csv('df_translated.csv', index=False)\n",
    "display(df_translated.head())"
   ]
  },
  {
   "cell_type": "code",
   "execution_count": 6,
   "metadata": {},
   "outputs": [],
   "source": [
    "# df_translated = pd.read_csv('df_translated_cleaned.csv')"
   ]
  },
  {
   "cell_type": "code",
   "execution_count": 7,
   "metadata": {},
   "outputs": [],
   "source": [
    "# df_translated = df_translated[df_translated['comment'].isin(('backtranslate_de', 'original_eng'))].copy()"
   ]
  },
  {
   "cell_type": "code",
   "execution_count": 8,
   "metadata": {},
   "outputs": [],
   "source": [
    "MAX_LEN = original_eng.text.str.len().max()\n",
    "# MAX_LEN = df_translated.text.str.len().max()"
   ]
  },
  {
   "cell_type": "code",
   "execution_count": 9,
   "metadata": {},
   "outputs": [],
   "source": [
    "df_translated = df_translated.dropna(subset=['comment'])"
   ]
  },
  {
   "cell_type": "code",
   "execution_count": 10,
   "metadata": {},
   "outputs": [],
   "source": [
    "# Dataset definition\n",
    "class EmotionDataset(Dataset):\n",
    "    def __init__(self, data, tokenizer, max_len=128):\n",
    "        self.texts = data[\"text\"].tolist()\n",
    "        self.labels = data[[\"Anger\", \"Fear\", \"Joy\", \"Sadness\", \"Surprise\"]].values\n",
    "        self.tokenizer = tokenizer\n",
    "        self.max_len = max_len\n",
    "\n",
    "    def __len__(self):\n",
    "        return len(self.texts)\n",
    "\n",
    "    def __getitem__(self, idx):\n",
    "        text = self.texts[idx]\n",
    "        labels = torch.tensor(self.labels[idx], dtype=torch.float)\n",
    "        encodings = self.tokenizer(\n",
    "            text,\n",
    "            max_length=self.max_len,\n",
    "            padding=\"max_length\",\n",
    "            truncation=True,\n",
    "            return_tensors=\"pt\"\n",
    "        )\n",
    "        input_ids = encodings[\"input_ids\"].squeeze(0)\n",
    "        attention_mask = encodings[\"attention_mask\"].squeeze(0)\n",
    "        return (input_ids, attention_mask), labels\n",
    "\n",
    "class CorrelationAwareLoss(nn.Module):\n",
    "    def __init__(self, pos_weight, correlation_matrix, base_loss=nn.BCEWithLogitsLoss):\n",
    "        \"\"\"\n",
    "        Args:\n",
    "            pos_weight (torch.Tensor): Weights for positive samples of each class.\n",
    "            correlation_matrix (torch.Tensor): Correlation matrix of labels.\n",
    "            base_loss (nn.Module): Base loss function (default: BCEWithLogitsLoss).\n",
    "        \"\"\"\n",
    "        super(CorrelationAwareLoss, self).__init__()\n",
    "        self.pos_weight = pos_weight\n",
    "        self.correlation_matrix = correlation_matrix\n",
    "        self.base_loss = base_loss(pos_weight=self.pos_weight)\n",
    "\n",
    "    def forward(self, logits, labels):\n",
    "        # Compute the weighted BCEWithLogitsLoss\n",
    "        weighted_loss = self.base_loss(logits, labels)\n",
    "\n",
    "        # Compute pairwise correlation adjustment\n",
    "        preds = torch.sigmoid(logits)  # Convert logits to probabilities\n",
    "        batch_size = preds.size(0)\n",
    "\n",
    "        # Penalize based on how predictions align with label correlation\n",
    "        correlation_loss = torch.sum(\n",
    "            (preds.unsqueeze(2) - preds.unsqueeze(1)) * self.correlation_matrix.unsqueeze(0)\n",
    "        ) / batch_size\n",
    "\n",
    "        # Combine the base loss and correlation loss\n",
    "        return weighted_loss + 0.1 * correlation_loss"
   ]
  },
  {
   "cell_type": "code",
   "execution_count": 11,
   "metadata": {},
   "outputs": [],
   "source": [
    "DEBUG = None"
   ]
  },
  {
   "cell_type": "code",
   "execution_count": 12,
   "metadata": {},
   "outputs": [],
   "source": [
    "class AttentionPooling(nn.Module):\n",
    "    def __init__(self, hidden_size):\n",
    "        super(AttentionPooling, self).__init__()\n",
    "        self.attention = nn.Sequential(\n",
    "            nn.Linear(hidden_size, 128),\n",
    "            nn.Tanh(),\n",
    "            nn.Linear(128, 1),\n",
    "            nn.Softmax(dim=1)  # Apply softmax across the sequence length\n",
    "        )\n",
    "\n",
    "    def forward(self, hidden_states, attention_mask):\n",
    "        # Apply attention mask to ignore [PAD] tokens\n",
    "        weights = self.attention(hidden_states)\n",
    "        weights = weights * attention_mask.unsqueeze(-1)  # Apply mask\n",
    "\n",
    "        # Normalize attention weights to sum to 1\n",
    "        weights = weights / (weights.sum(dim=1, keepdim=True) + 1e-9)\n",
    "\n",
    "        # Weighted sum of hidden states\n",
    "        pooled_output = torch.sum(weights * hidden_states, dim=1)\n",
    "        return pooled_output, weights\n",
    "\n",
    "\n",
    "\n",
    "class RobertaMultiLabel(torch.nn.Module):\n",
    "    def __init__(self, num_labels):\n",
    "        super(RobertaMultiLabel, self).__init__()\n",
    "        self.bert = RobertaModel.from_pretrained(\"roberta-base\", num_labels=num_labels)\n",
    "        self.dropout = nn.Dropout(0.1)\n",
    "        self.fc = nn.Linear(self.bert.config.hidden_size, num_labels)\n",
    "        hidden_size = self.bert.config.hidden_size  # Typically 768\n",
    "\n",
    "        # Attention Pooling Layer\n",
    "        self.attention_pooling = AttentionPooling(hidden_size)\n",
    "\n",
    "        # Classification Head\n",
    "        self.classifier = nn.Sequential(\n",
    "            nn.Linear(hidden_size, 256),\n",
    "            nn.ReLU(),\n",
    "            nn.Dropout(0.1),\n",
    "            nn.Linear(256, num_labels),\n",
    "        )\n",
    "\n",
    "    def forward(self, x):\n",
    "        input_ids, attention_mask = x\n",
    "        outputs = self.bert(input_ids=input_ids, attention_mask=attention_mask)\n",
    "        hidden_states = outputs.last_hidden_state  # Shape: (batch_size, seq_len, hidden_size)\n",
    "\n",
    "        # Apply Attention Pooling\n",
    "        pooled_output, attention_weights = self.attention_pooling(hidden_states, attention_mask)\n",
    "\n",
    "        # Classification\n",
    "        logits = self.classifier(pooled_output)\n",
    "\n",
    "        return logits"
   ]
  },
  {
   "cell_type": "code",
   "execution_count": 13,
   "metadata": {},
   "outputs": [],
   "source": [
    "# drop nas from the dataset where the text is missing\n",
    "df_translated = df_translated.dropna(subset=['text'])\n",
    "# df_translated = df_translated[df_translated['comment'] != 'backtranslate_de']"
   ]
  },
  {
   "cell_type": "code",
   "execution_count": 14,
   "metadata": {},
   "outputs": [
    {
     "data": {
      "application/vnd.jupyter.widget-view+json": {
       "model_id": "4c33ab871cbb42e88de90c96a61a210f",
       "version_major": 2,
       "version_minor": 0
      },
      "text/plain": [
       "tokenizer_config.json:   0%|          | 0.00/25.0 [00:00<?, ?B/s]"
      ]
     },
     "metadata": {},
     "output_type": "display_data"
    },
    {
     "data": {
      "application/vnd.jupyter.widget-view+json": {
       "model_id": "926b8db99c6c4332b07f73a122b4434e",
       "version_major": 2,
       "version_minor": 0
      },
      "text/plain": [
       "vocab.json:   0%|          | 0.00/899k [00:00<?, ?B/s]"
      ]
     },
     "metadata": {},
     "output_type": "display_data"
    },
    {
     "data": {
      "application/vnd.jupyter.widget-view+json": {
       "model_id": "ac9c2d15fd6f4cd3835451a2957b728d",
       "version_major": 2,
       "version_minor": 0
      },
      "text/plain": [
       "merges.txt:   0%|          | 0.00/456k [00:00<?, ?B/s]"
      ]
     },
     "metadata": {},
     "output_type": "display_data"
    },
    {
     "data": {
      "application/vnd.jupyter.widget-view+json": {
       "model_id": "db383b7f30314299a3f9a03036d82877",
       "version_major": 2,
       "version_minor": 0
      },
      "text/plain": [
       "tokenizer.json:   0%|          | 0.00/1.36M [00:00<?, ?B/s]"
      ]
     },
     "metadata": {},
     "output_type": "display_data"
    },
    {
     "data": {
      "application/vnd.jupyter.widget-view+json": {
       "model_id": "88d74256a7894352b93d98b7fa348a08",
       "version_major": 2,
       "version_minor": 0
      },
      "text/plain": [
       "config.json:   0%|          | 0.00/481 [00:00<?, ?B/s]"
      ]
     },
     "metadata": {},
     "output_type": "display_data"
    }
   ],
   "source": [
    "# train_data, valid_data = train_test_split(df_translated, test_size=0.25, random_state=42)\n",
    "train_data, valid_data = train_test_split(original_eng, test_size=0.25, random_state=42)\n",
    "\n",
    "tokenizer = RobertaTokenizerFast.from_pretrained('roberta-base')"
   ]
  },
  {
   "cell_type": "code",
   "execution_count": 15,
   "metadata": {},
   "outputs": [],
   "source": [
    "labels = ['Anger', 'Fear', 'Joy', 'Sadness', 'Surprise']"
   ]
  },
  {
   "cell_type": "code",
   "execution_count": 16,
   "metadata": {},
   "outputs": [
    {
     "name": "stdout",
     "output_type": "stream",
     "text": [
      "Using device: cuda\n"
     ]
    },
    {
     "data": {
      "application/vnd.jupyter.widget-view+json": {
       "model_id": "0ff9bc09a30e49e1967581ef25297ff0",
       "version_major": 2,
       "version_minor": 0
      },
      "text/plain": [
       "model.safetensors:   0%|          | 0.00/499M [00:00<?, ?B/s]"
      ]
     },
     "metadata": {},
     "output_type": "display_data"
    },
    {
     "name": "stderr",
     "output_type": "stream",
     "text": [
      "Some weights of RobertaModel were not initialized from the model checkpoint at roberta-base and are newly initialized: ['roberta.pooler.dense.bias', 'roberta.pooler.dense.weight']\n",
      "You should probably TRAIN this model on a down-stream task to be able to use it for predictions and inference.\n",
      "/tmp/ipykernel_2950103/2857014135.py:26: UserWarning: To copy construct from a tensor, it is recommended to use sourceTensor.clone().detach() or sourceTensor.clone().detach().requires_grad_(True), rather than torch.tensor(sourceTensor).\n",
      "  pos_weight_tensor = torch.tensor(pos_weight, dtype=torch.float).to(device)\n"
     ]
    }
   ],
   "source": [
    "train_dataset = EmotionDataset(\n",
    "    train_data,\n",
    "    tokenizer\n",
    ")\n",
    "valid_dataset = EmotionDataset(\n",
    "    valid_data,\n",
    "    tokenizer\n",
    ")\n",
    "\n",
    "train_loader = DataLoader(train_dataset, batch_size=16, shuffle=True)\n",
    "valid_loader = DataLoader(valid_dataset, batch_size=16)\n",
    "\n",
    "# Define model and training components\n",
    "#device = torch.device(\"mps\") if torch.backends.mps.is_available() else torch.device(\"cpu\")\n",
    "device = torch.device(\"cuda\")\n",
    "print(f\"Using device: {device}\")\n",
    "model = RobertaMultiLabel(len(labels)).to(device)\n",
    "\n",
    "\n",
    "# Compute pos_weight for BCEWithLogitsLoss \n",
    "values = train_data[labels].values.tolist()\n",
    "labels_tensor = torch.tensor(values, dtype=torch.float)\n",
    "num_positives = labels_tensor.sum(dim=0)\n",
    "num_negatives = labels_tensor.shape[0] - num_positives\n",
    "pos_weight = num_negatives / num_positives\n",
    "pos_weight_tensor = torch.tensor(pos_weight, dtype=torch.float).to(device)\n",
    "\n",
    "# Define the loss function\n",
    "loss_func = torch.nn.BCEWithLogitsLoss(pos_weight=pos_weight_tensor)\n",
    "\n",
    "# loss_func = CorrelationAwareLoss(pos_weight=class_weights, correlation_matrix=correlation_matrix)\n",
    "# loss_func = nn.BCEWithLogitsLoss()\n"
   ]
  },
  {
   "cell_type": "code",
   "execution_count": 17,
   "metadata": {},
   "outputs": [],
   "source": [
    "# Add timestamp to the directory name\n",
    "timestamp = datetime.now().strftime('%Y-%m-%d_%H-%M-%S')\n",
    "name = \"roberta\"\n",
    "output_path = Path(f'model_{name}_{timestamp}')\n",
    "output_path.mkdir(exist_ok=True, parents=True)\n",
    "\n",
    "# FastAI DataLoaders\n",
    "dls = DataLoaders(train_loader, valid_loader, device=device)\n",
    "\n",
    "# Define Learner\n",
    "learn = Learner(\n",
    "    dls,\n",
    "    model,\n",
    "    loss_func=loss_func,\n",
    "    opt_func=partial(OptimWrapper, opt=torch.optim.AdamW),\n",
    "    metrics=[RocAuc()],\n",
    "    path=output_path\n",
    ")\n",
    "\n",
    "# Callbacks\n",
    "cbs = [\n",
    "    SaveModelCallback(monitor='valid_loss', fname='best_valid'),\n",
    "    EarlyStoppingCallback(monitor='valid_loss', patience=9),\n",
    "    CSVLogger()\n",
    "]"
   ]
  },
  {
   "cell_type": "code",
   "execution_count": 18,
   "metadata": {},
   "outputs": [
    {
     "data": {
      "text/html": [
       "\n",
       "<style>\n",
       "    /* Turns off some styling */\n",
       "    progress {\n",
       "        /* gets rid of default border in Firefox and Opera. */\n",
       "        border: none;\n",
       "        /* Needs to be in here for Safari polyfill so background images work as expected. */\n",
       "        background-size: auto;\n",
       "    }\n",
       "    progress:not([value]), progress:not([value])::-webkit-progress-bar {\n",
       "        background: repeating-linear-gradient(45deg, #7e7e7e, #7e7e7e 10px, #5c5c5c 10px, #5c5c5c 20px);\n",
       "    }\n",
       "    .progress-bar-interrupted, .progress-bar-interrupted::-webkit-progress-bar {\n",
       "        background: #F44336;\n",
       "    }\n",
       "</style>\n"
      ],
      "text/plain": [
       "<IPython.core.display.HTML object>"
      ]
     },
     "metadata": {},
     "output_type": "display_data"
    },
    {
     "data": {
      "text/html": [
       "<table border=\"1\" class=\"dataframe\">\n",
       "  <thead>\n",
       "    <tr style=\"text-align: left;\">\n",
       "      <th>epoch</th>\n",
       "      <th>train_loss</th>\n",
       "      <th>valid_loss</th>\n",
       "      <th>roc_auc_score</th>\n",
       "      <th>time</th>\n",
       "    </tr>\n",
       "  </thead>\n",
       "  <tbody>\n",
       "    <tr>\n",
       "      <td>0</td>\n",
       "      <td>0.920853</td>\n",
       "      <td>0.884822</td>\n",
       "      <td>0.744689</td>\n",
       "      <td>00:13</td>\n",
       "    </tr>\n",
       "    <tr>\n",
       "      <td>1</td>\n",
       "      <td>0.841050</td>\n",
       "      <td>0.819632</td>\n",
       "      <td>0.775229</td>\n",
       "      <td>00:13</td>\n",
       "    </tr>\n",
       "    <tr>\n",
       "      <td>2</td>\n",
       "      <td>0.661973</td>\n",
       "      <td>0.662881</td>\n",
       "      <td>0.832380</td>\n",
       "      <td>00:13</td>\n",
       "    </tr>\n",
       "    <tr>\n",
       "      <td>3</td>\n",
       "      <td>0.424963</td>\n",
       "      <td>0.668132</td>\n",
       "      <td>0.836359</td>\n",
       "      <td>00:13</td>\n",
       "    </tr>\n",
       "    <tr>\n",
       "      <td>4</td>\n",
       "      <td>0.303037</td>\n",
       "      <td>0.701655</td>\n",
       "      <td>0.838646</td>\n",
       "      <td>00:13</td>\n",
       "    </tr>\n",
       "  </tbody>\n",
       "</table>"
      ],
      "text/plain": [
       "<IPython.core.display.HTML object>"
      ]
     },
     "metadata": {},
     "output_type": "display_data"
    },
    {
     "name": "stdout",
     "output_type": "stream",
     "text": [
      "Better model found at epoch 0 with valid_loss value: 0.8848220705986023.\n",
      "Better model found at epoch 1 with valid_loss value: 0.8196322917938232.\n",
      "Better model found at epoch 2 with valid_loss value: 0.6628811359405518.\n"
     ]
    }
   ],
   "source": [
    "learn.fit_one_cycle(n_epoch=5, reset_opt=True, lr_max=1e-4, wd=1e-2, cbs=cbs)"
   ]
  },
  {
   "cell_type": "code",
   "execution_count": 19,
   "metadata": {},
   "outputs": [
    {
     "data": {
      "image/png": "[encoded data removed]",
      "text/plain": [
       "<Figure size 640x480 with 1 Axes>"
      ]
     },
     "metadata": {},
     "output_type": "display_data"
    }
   ],
   "source": [
    "learn.recorder.plot_loss()\n",
    "plt.show()"
   ]
  },
  {
   "cell_type": "code",
   "execution_count": 20,
   "metadata": {},
   "outputs": [
    {
     "data": {
      "text/plain": [
       "Path('model_roberta_2025-02-04_15-38-30/models/model_last.pth')"
      ]
     },
     "execution_count": 20,
     "metadata": {},
     "output_type": "execute_result"
    }
   ],
   "source": [
    "# save learn model in pth format\n",
    "learn.save(f'model_last')\n"
   ]
  },
  {
   "cell_type": "code",
   "execution_count": 21,
   "metadata": {},
   "outputs": [],
   "source": [
    "# def predict_and_save_with_texts(learner, texts, output_csv):\n",
    "#     if learner.dls.valid is None:\n",
    "#         raise ValueError(\"The Learner does not have a validation DataLoader.\")\n",
    "    \n",
    "#     preds, targs = learner.get_preds(dl=learner.dls.valid)\n",
    "\n",
    "#     preds_binary = (preds > 0).int()\n",
    "\n",
    "#     results_df = pd.DataFrame({\n",
    "#         \"Text\": texts,\n",
    "#         \"True Labels\": [list(map(int, x)) for x in targs],\n",
    "#         \"Predicted Labels\": [list(map(int, x)) for x in preds_binary]\n",
    "#     })\n",
    "\n",
    "#     results_df.to_csv(output_csv, index=False)\n",
    "#     print(f\"Predictions saved to {output_csv}\")\n",
    "\n",
    "\n",
    "# results_path = Path(f\"results_{name}_{timestamp}\")\n",
    "# results_path.mkdir(exist_ok=True, parents=True)\n",
    "# output_csv = f\"{results_path}/validation_predictions.csv\"\n",
    "\n",
    "# # Load best model\n",
    "# best_model_path = output_path / 'models' / 'best_valid.pth'\n",
    "# #learn.load(best_model_path.stem)\n",
    "\n",
    "# # Get validation texts and make predictions\n",
    "# validation_texts = valid_data[\"text\"].tolist()\n",
    "# predict_and_save_with_texts(learn, validation_texts, output_csv=output_csv)\n"
   ]
  },
  {
   "cell_type": "code",
   "execution_count": 22,
   "metadata": {},
   "outputs": [
    {
     "data": {
      "text/html": [
       "<div>\n",
       "<style scoped>\n",
       "    .dataframe tbody tr th:only-of-type {\n",
       "        vertical-align: middle;\n",
       "    }\n",
       "\n",
       "    .dataframe tbody tr th {\n",
       "        vertical-align: top;\n",
       "    }\n",
       "\n",
       "    .dataframe thead th {\n",
       "        text-align: right;\n",
       "    }\n",
       "</style>\n",
       "<table border=\"1\" class=\"dataframe\">\n",
       "  <thead>\n",
       "    <tr style=\"text-align: right;\">\n",
       "      <th></th>\n",
       "      <th>id</th>\n",
       "      <th>text</th>\n",
       "      <th>anger</th>\n",
       "      <th>fear</th>\n",
       "      <th>joy</th>\n",
       "      <th>sadness</th>\n",
       "      <th>surprise</th>\n",
       "    </tr>\n",
       "  </thead>\n",
       "  <tbody>\n",
       "    <tr>\n",
       "      <th>0</th>\n",
       "      <td>eng_dev_track_a_00001</td>\n",
       "      <td>Older sister (23 at the time) is a Scumbag Stacy.</td>\n",
       "      <td>1</td>\n",
       "      <td>0</td>\n",
       "      <td>0</td>\n",
       "      <td>0</td>\n",
       "      <td>0</td>\n",
       "    </tr>\n",
       "    <tr>\n",
       "      <th>1</th>\n",
       "      <td>eng_dev_track_a_00002</td>\n",
       "      <td>And I laughed like this: garhahagar, because my mouth was full of cotton and shit to bite down on and sharp objects and drills.</td>\n",
       "      <td>0</td>\n",
       "      <td>1</td>\n",
       "      <td>0</td>\n",
       "      <td>0</td>\n",
       "      <td>0</td>\n",
       "    </tr>\n",
       "    <tr>\n",
       "      <th>2</th>\n",
       "      <td>eng_dev_track_a_00003</td>\n",
       "      <td>It overflowed and brown shitty diarrhea water came flooding under the stall wall into my wife's stall.</td>\n",
       "      <td>1</td>\n",
       "      <td>1</td>\n",
       "      <td>0</td>\n",
       "      <td>1</td>\n",
       "      <td>1</td>\n",
       "    </tr>\n",
       "    <tr>\n",
       "      <th>3</th>\n",
       "      <td>eng_dev_track_a_00004</td>\n",
       "      <td>Its very dark and foggy.</td>\n",
       "      <td>0</td>\n",
       "      <td>1</td>\n",
       "      <td>0</td>\n",
       "      <td>0</td>\n",
       "      <td>0</td>\n",
       "    </tr>\n",
       "    <tr>\n",
       "      <th>4</th>\n",
       "      <td>eng_dev_track_a_00005</td>\n",
       "      <td>Then she tried to, like, have sex with/strangle everyone.</td>\n",
       "      <td>1</td>\n",
       "      <td>1</td>\n",
       "      <td>0</td>\n",
       "      <td>0</td>\n",
       "      <td>1</td>\n",
       "    </tr>\n",
       "  </tbody>\n",
       "</table>\n",
       "</div>"
      ],
      "text/plain": [
       "                      id  \\\n",
       "0  eng_dev_track_a_00001   \n",
       "1  eng_dev_track_a_00002   \n",
       "2  eng_dev_track_a_00003   \n",
       "3  eng_dev_track_a_00004   \n",
       "4  eng_dev_track_a_00005   \n",
       "\n",
       "                                                                                                                              text  \\\n",
       "0                                                                                Older sister (23 at the time) is a Scumbag Stacy.   \n",
       "1  And I laughed like this: garhahagar, because my mouth was full of cotton and shit to bite down on and sharp objects and drills.   \n",
       "2                           It overflowed and brown shitty diarrhea water came flooding under the stall wall into my wife's stall.   \n",
       "3                                                                                                         Its very dark and foggy.   \n",
       "4                                                                        Then she tried to, like, have sex with/strangle everyone.   \n",
       "\n",
       "   anger  fear  joy  sadness  surprise  \n",
       "0      1     0    0        0         0  \n",
       "1      0     1    0        0         0  \n",
       "2      1     1    0        1         1  \n",
       "3      0     1    0        0         0  \n",
       "4      1     1    0        0         1  "
      ]
     },
     "execution_count": 22,
     "metadata": {},
     "output_type": "execute_result"
    }
   ],
   "source": [
    "\n",
    "dev_df = pd.read_csv('public_data_test/track_a/dev/eng.csv')\n",
    "# dev_df = valid_data\n",
    "dev_df.head()\n"
   ]
  },
  {
   "cell_type": "code",
   "execution_count": 23,
   "metadata": {},
   "outputs": [
    {
     "name": "stderr",
     "output_type": "stream",
     "text": [
      "/mnt/bulk-sirius/anton/coding/SemEval/.venv/lib/python3.12/site-packages/fastai/learner.py:61: UserWarning: Saved file doesn't contain an optimizer state.\n",
      "  elif with_opt: warn(\"Saved file doesn't contain an optimizer state.\")\n"
     ]
    },
    {
     "name": "stdout",
     "output_type": "stream",
     "text": [
      "Predictions saved to results_roberta_2025-02-04_15-38-30/dev_predictions.csv\n"
     ]
    }
   ],
   "source": [
    "# Function to preprocess and predict\n",
    "def predict_classes(learner, texts, tokenizer, max_len=128):\n",
    "    predictions = []\n",
    "\n",
    "    learner.model.eval()\n",
    "    with torch.no_grad():\n",
    "        for text in texts:\n",
    "            # Tokenize and prepare input\n",
    "            encoded = tokenizer(\n",
    "                text,\n",
    "                padding=\"max_length\",\n",
    "                truncation=True,\n",
    "                max_length=max_len,\n",
    "                return_tensors=\"pt\"\n",
    "            )\n",
    "            input_ids = encoded[\"input_ids\"].to(device)\n",
    "            attention_mask = encoded[\"attention_mask\"].to(device)\n",
    "\n",
    "            # Make predictions\n",
    "            logits = learner.model((input_ids, attention_mask))\n",
    "            probs = torch.sigmoid(logits)  # Multi-label classification\n",
    "            predicted_labels = (probs > 0.5).int().tolist()[0]  # Binary predictions\n",
    "            # predicted_labels = (logits > 0).int().tolist()[0]  # Binary predictions\n",
    "\n",
    "            predictions.append(predicted_labels)\n",
    "    return predictions\n",
    "\n",
    "\n",
    "# Load best model\n",
    "best_model_path = output_path / 'models' / 'best_valid.pth'\n",
    "learn.load(best_model_path.stem)\n",
    "\n",
    "\n",
    "# Apply the model to the dataset\n",
    "# drop dev_df with missing text\n",
    "dev_df = dev_df.dropna(subset=['text'])\n",
    "texts = dev_df[\"text\"].tolist()  # Handle missing texts\n",
    "predictions = predict_classes(learn, texts, tokenizer)\n",
    "\n",
    "# Add predictions to the DataFrame\n",
    "emotion_labels = [\"pred_anger\", \"pred_fear\", \"pred_joy\", \"pred_sadness\", \"pred_surprise\"]\n",
    "prediction_df = pd.DataFrame(predictions, columns=emotion_labels)\n",
    "dev_df[emotion_labels] = prediction_df.values\n",
    "\n",
    "# Save the true and predicted labels as string lists\n",
    "# dev_df[\"True Labels\"] = dev_df[[\"Anger\", \"Fear\", \"Joy\", \"Sadness\", \"Surprise\"]].values.tolist()\n",
    "dev_df[\"True Labels\"] = dev_df[[\"anger\", \"fear\", \"joy\", \"sadness\", \"surprise\"]].values.tolist()\n",
    "\n",
    "dev_df[\"Predicted Labels\"] = dev_df[emotion_labels].values.tolist()\n",
    "\n",
    "# Convert lists to strings\n",
    "dev_df[\"True Labels\"] = dev_df[\"True Labels\"].apply(lambda x: str(x))\n",
    "dev_df[\"Predicted Labels\"] = dev_df[\"Predicted Labels\"].apply(lambda x: str(x))\n",
    "\n",
    "# Save the updated DataFrame to a new file\n",
    "results_path = Path(f\"results_{name}_{timestamp}\")\n",
    "results_path.mkdir(exist_ok=True, parents=True)\n",
    "output_csv = f\"{results_path}/dev_predictions.csv\"\n",
    "\n",
    "dev_df.to_csv(output_csv, index=False)\n",
    "\n",
    "print(f\"Predictions saved to {output_csv}\")"
   ]
  },
  {
   "cell_type": "code",
   "execution_count": null,
   "metadata": {},
   "outputs": [],
   "source": []
  },
  {
   "cell_type": "code",
   "execution_count": null,
   "metadata": {},
   "outputs": [],
   "source": []
  },
  {
   "cell_type": "code",
   "execution_count": null,
   "metadata": {},
   "outputs": [
    {
     "data": {
      "text/plain": [
       "BertEmotionClassifier(\n",
       "  (bert): BertModel(\n",
       "    (embeddings): BertEmbeddings(\n",
       "      (word_embeddings): Embedding(30522, 768, padding_idx=0)\n",
       "      (position_embeddings): Embedding(512, 768)\n",
       "      (token_type_embeddings): Embedding(2, 768)\n",
       "      (LayerNorm): LayerNorm((768,), eps=1e-12, elementwise_affine=True)\n",
       "      (dropout): Dropout(p=0.1, inplace=False)\n",
       "    )\n",
       "    (encoder): BertEncoder(\n",
       "      (layer): ModuleList(\n",
       "        (0-11): 12 x BertLayer(\n",
       "          (attention): BertAttention(\n",
       "            (self): BertSdpaSelfAttention(\n",
       "              (query): Linear(in_features=768, out_features=768, bias=True)\n",
       "              (key): Linear(in_features=768, out_features=768, bias=True)\n",
       "              (value): Linear(in_features=768, out_features=768, bias=True)\n",
       "              (dropout): Dropout(p=0.1, inplace=False)\n",
       "            )\n",
       "            (output): BertSelfOutput(\n",
       "              (dense): Linear(in_features=768, out_features=768, bias=True)\n",
       "              (LayerNorm): LayerNorm((768,), eps=1e-12, elementwise_affine=True)\n",
       "              (dropout): Dropout(p=0.1, inplace=False)\n",
       "            )\n",
       "          )\n",
       "          (intermediate): BertIntermediate(\n",
       "            (dense): Linear(in_features=768, out_features=3072, bias=True)\n",
       "            (intermediate_act_fn): GELUActivation()\n",
       "          )\n",
       "          (output): BertOutput(\n",
       "            (dense): Linear(in_features=3072, out_features=768, bias=True)\n",
       "            (LayerNorm): LayerNorm((768,), eps=1e-12, elementwise_affine=True)\n",
       "            (dropout): Dropout(p=0.1, inplace=False)\n",
       "          )\n",
       "        )\n",
       "      )\n",
       "    )\n",
       "    (pooler): BertPooler(\n",
       "      (dense): Linear(in_features=768, out_features=768, bias=True)\n",
       "      (activation): Tanh()\n",
       "    )\n",
       "  )\n",
       "  (dropout): Dropout(p=0.3, inplace=False)\n",
       "  (fc): Linear(in_features=768, out_features=5, bias=True)\n",
       ")"
      ]
     },
     "execution_count": 14,
     "metadata": {},
     "output_type": "execute_result"
    }
   ],
   "source": [
    "model = BertEmotionClassifier(5)\n",
    "model_path =  os.path.join(base_dir, output_path, \"models\", \"best_valid.pth\")\n",
    "model.load_state_dict(torch.load(model_path))\n",
    "model.eval()  # Set the model to evaluation mode\n"
   ]
  },
  {
   "cell_type": "code",
   "execution_count": 16,
   "metadata": {},
   "outputs": [],
   "source": [
    "dev_data_path =  os.path.join(base_dir, \"public_data\", \"dev\", \"track_a\", \"eng_a.csv\")\n",
    "data_eng = pd.read_csv(dev_data_path)\n"
   ]
  },
  {
   "cell_type": "code",
   "execution_count": 17,
   "metadata": {},
   "outputs": [
    {
     "ename": "TypeError",
     "evalue": "BertEmotionClassifier.forward() takes 2 positional arguments but 3 were given",
     "output_type": "error",
     "traceback": [
      "\u001b[0;31m---------------------------------------------------------------------------\u001b[0m",
      "\u001b[0;31mTypeError\u001b[0m                                 Traceback (most recent call last)",
      "Cell \u001b[0;32mIn[17], line 43\u001b[0m\n\u001b[1;32m     41\u001b[0m \u001b[38;5;66;03m# Apply the model to the dataset\u001b[39;00m\n\u001b[1;32m     42\u001b[0m texts \u001b[38;5;241m=\u001b[39m data[\u001b[38;5;124m\"\u001b[39m\u001b[38;5;124mtext\u001b[39m\u001b[38;5;124m\"\u001b[39m]\u001b[38;5;241m.\u001b[39mfillna(\u001b[38;5;124m\"\u001b[39m\u001b[38;5;124m\"\u001b[39m)\u001b[38;5;241m.\u001b[39mtolist()  \u001b[38;5;66;03m# Handle missing texts\u001b[39;00m\n\u001b[0;32m---> 43\u001b[0m predictions \u001b[38;5;241m=\u001b[39m \u001b[43mpredict_classes\u001b[49m\u001b[43m(\u001b[49m\u001b[43mmodel\u001b[49m\u001b[43m,\u001b[49m\u001b[43m \u001b[49m\u001b[43mtexts\u001b[49m\u001b[43m,\u001b[49m\u001b[43m \u001b[49m\u001b[43mtokenizer\u001b[49m\u001b[43m)\u001b[49m\n\u001b[1;32m     45\u001b[0m \u001b[38;5;66;03m# Add predictions to the DataFrame\u001b[39;00m\n\u001b[1;32m     46\u001b[0m emotion_labels \u001b[38;5;241m=\u001b[39m [\u001b[38;5;124m\"\u001b[39m\u001b[38;5;124mAnger\u001b[39m\u001b[38;5;124m\"\u001b[39m, \u001b[38;5;124m\"\u001b[39m\u001b[38;5;124mFear\u001b[39m\u001b[38;5;124m\"\u001b[39m, \u001b[38;5;124m\"\u001b[39m\u001b[38;5;124mJoy\u001b[39m\u001b[38;5;124m\"\u001b[39m, \u001b[38;5;124m\"\u001b[39m\u001b[38;5;124mSadness\u001b[39m\u001b[38;5;124m\"\u001b[39m, \u001b[38;5;124m\"\u001b[39m\u001b[38;5;124mSurprise\u001b[39m\u001b[38;5;124m\"\u001b[39m]\n",
      "Cell \u001b[0;32mIn[17], line 33\u001b[0m, in \u001b[0;36mpredict_classes\u001b[0;34m(model, texts, tokenizer, max_len)\u001b[0m\n\u001b[1;32m     30\u001b[0m attention_mask \u001b[38;5;241m=\u001b[39m encoded[\u001b[38;5;124m\"\u001b[39m\u001b[38;5;124mattention_mask\u001b[39m\u001b[38;5;124m\"\u001b[39m]\n\u001b[1;32m     32\u001b[0m \u001b[38;5;66;03m# Make predictions\u001b[39;00m\n\u001b[0;32m---> 33\u001b[0m logits \u001b[38;5;241m=\u001b[39m \u001b[43mmodel\u001b[49m\u001b[43m(\u001b[49m\u001b[43minput_ids\u001b[49m\u001b[43m,\u001b[49m\u001b[43m \u001b[49m\u001b[43mattention_mask\u001b[49m\u001b[43m)\u001b[49m\n\u001b[1;32m     34\u001b[0m probs \u001b[38;5;241m=\u001b[39m torch\u001b[38;5;241m.\u001b[39msigmoid(logits)  \u001b[38;5;66;03m# Multi-label classification\u001b[39;00m\n\u001b[1;32m     35\u001b[0m predicted_labels \u001b[38;5;241m=\u001b[39m (probs \u001b[38;5;241m>\u001b[39m \u001b[38;5;241m0.5\u001b[39m)\u001b[38;5;241m.\u001b[39mint()\u001b[38;5;241m.\u001b[39mtolist()[\u001b[38;5;241m0\u001b[39m]  \u001b[38;5;66;03m# Binary predictions\u001b[39;00m\n",
      "File \u001b[0;32m~/miniconda3/envs/trdr/lib/python3.10/site-packages/torch/nn/modules/module.py:1511\u001b[0m, in \u001b[0;36mModule._wrapped_call_impl\u001b[0;34m(self, *args, **kwargs)\u001b[0m\n\u001b[1;32m   1509\u001b[0m     \u001b[38;5;28;01mreturn\u001b[39;00m \u001b[38;5;28mself\u001b[39m\u001b[38;5;241m.\u001b[39m_compiled_call_impl(\u001b[38;5;241m*\u001b[39margs, \u001b[38;5;241m*\u001b[39m\u001b[38;5;241m*\u001b[39mkwargs)  \u001b[38;5;66;03m# type: ignore[misc]\u001b[39;00m\n\u001b[1;32m   1510\u001b[0m \u001b[38;5;28;01melse\u001b[39;00m:\n\u001b[0;32m-> 1511\u001b[0m     \u001b[38;5;28;01mreturn\u001b[39;00m \u001b[38;5;28;43mself\u001b[39;49m\u001b[38;5;241;43m.\u001b[39;49m\u001b[43m_call_impl\u001b[49m\u001b[43m(\u001b[49m\u001b[38;5;241;43m*\u001b[39;49m\u001b[43margs\u001b[49m\u001b[43m,\u001b[49m\u001b[43m \u001b[49m\u001b[38;5;241;43m*\u001b[39;49m\u001b[38;5;241;43m*\u001b[39;49m\u001b[43mkwargs\u001b[49m\u001b[43m)\u001b[49m\n",
      "File \u001b[0;32m~/miniconda3/envs/trdr/lib/python3.10/site-packages/torch/nn/modules/module.py:1520\u001b[0m, in \u001b[0;36mModule._call_impl\u001b[0;34m(self, *args, **kwargs)\u001b[0m\n\u001b[1;32m   1515\u001b[0m \u001b[38;5;66;03m# If we don't have any hooks, we want to skip the rest of the logic in\u001b[39;00m\n\u001b[1;32m   1516\u001b[0m \u001b[38;5;66;03m# this function, and just call forward.\u001b[39;00m\n\u001b[1;32m   1517\u001b[0m \u001b[38;5;28;01mif\u001b[39;00m \u001b[38;5;129;01mnot\u001b[39;00m (\u001b[38;5;28mself\u001b[39m\u001b[38;5;241m.\u001b[39m_backward_hooks \u001b[38;5;129;01mor\u001b[39;00m \u001b[38;5;28mself\u001b[39m\u001b[38;5;241m.\u001b[39m_backward_pre_hooks \u001b[38;5;129;01mor\u001b[39;00m \u001b[38;5;28mself\u001b[39m\u001b[38;5;241m.\u001b[39m_forward_hooks \u001b[38;5;129;01mor\u001b[39;00m \u001b[38;5;28mself\u001b[39m\u001b[38;5;241m.\u001b[39m_forward_pre_hooks\n\u001b[1;32m   1518\u001b[0m         \u001b[38;5;129;01mor\u001b[39;00m _global_backward_pre_hooks \u001b[38;5;129;01mor\u001b[39;00m _global_backward_hooks\n\u001b[1;32m   1519\u001b[0m         \u001b[38;5;129;01mor\u001b[39;00m _global_forward_hooks \u001b[38;5;129;01mor\u001b[39;00m _global_forward_pre_hooks):\n\u001b[0;32m-> 1520\u001b[0m     \u001b[38;5;28;01mreturn\u001b[39;00m \u001b[43mforward_call\u001b[49m\u001b[43m(\u001b[49m\u001b[38;5;241;43m*\u001b[39;49m\u001b[43margs\u001b[49m\u001b[43m,\u001b[49m\u001b[43m \u001b[49m\u001b[38;5;241;43m*\u001b[39;49m\u001b[38;5;241;43m*\u001b[39;49m\u001b[43mkwargs\u001b[49m\u001b[43m)\u001b[49m\n\u001b[1;32m   1522\u001b[0m \u001b[38;5;28;01mtry\u001b[39;00m:\n\u001b[1;32m   1523\u001b[0m     result \u001b[38;5;241m=\u001b[39m \u001b[38;5;28;01mNone\u001b[39;00m\n",
      "\u001b[0;31mTypeError\u001b[0m: BertEmotionClassifier.forward() takes 2 positional arguments but 3 were given"
     ]
    }
   ],
   "source": [
    "tokenizer = BertTokenizer.from_pretrained(\"bert-base-uncased\")\n",
    "\n",
    "# Function to preprocess and predict\n",
    "def predict_classes(model, texts, tokenizer, max_len=128):\n",
    "    \"\"\"\n",
    "    Predict classes for a list of texts using the provided model and tokenizer.\n",
    "\n",
    "    Args:\n",
    "        model: The loaded PyTorch model.\n",
    "        texts: A list of input sentences.\n",
    "        tokenizer: The tokenizer for preprocessing the input.\n",
    "        max_len: Maximum sequence length for tokenization.\n",
    "\n",
    "    Returns:\n",
    "        predictions: Predicted labels for the input texts.\n",
    "    \"\"\"\n",
    "    predictions = []\n",
    "\n",
    "    with torch.no_grad():\n",
    "        for text in texts:\n",
    "            # Tokenize and prepare input\n",
    "            encoded = tokenizer(\n",
    "                text,\n",
    "                padding=\"max_length\",\n",
    "                truncation=True,\n",
    "                max_length=max_len,\n",
    "                return_tensors=\"pt\"\n",
    "            )\n",
    "            input_ids = encoded[\"input_ids\"]\n",
    "            attention_mask = encoded[\"attention_mask\"]\n",
    "\n",
    "            # Make predictions\n",
    "            logits = model(input_ids, attention_mask)\n",
    "            print(logits)\n",
    "            probs = torch.sigmoid(logits)  # Multi-label classification\n",
    "            predicted_labels = (probs > 0.5).int().tolist()[0]  # Binary predictions\n",
    "\n",
    "            predictions.append(predicted_labels)\n",
    "    \n",
    "    return predictions\n",
    "\n",
    "# Apply the model to the dataset\n",
    "texts = data_eng[\"text\"].fillna(\"\").tolist()  # Handle missing texts\n",
    "predictions = predict_classes(model, texts, tokenizer)\n",
    "\n",
    "# Add predictions to the DataFrame\n",
    "emotion_labels = [\"Anger\", \"Fear\", \"Joy\", \"Sadness\", \"Surprise\"]\n",
    "prediction_df = pd.DataFrame(predictions, columns=emotion_labels)\n",
    "data_eng[emotion_labels] = prediction_df\n",
    "\n",
    "# Save the updated DataFrame to a new file\n",
    "output_path =  os.path.join(base_dir, \"public_data\", \"dev\", \"track_a\", \"eng_with_predictions_CAL.csv\")\n",
    "data_eng.to_csv(output_path, index=False)\n",
    "\n",
    "print(f\"Predictions saved to {output_path}\")"
   ]
  },
  {
   "cell_type": "code",
   "execution_count": null,
   "metadata": {},
   "outputs": [],
   "source": []
  },
  {
   "cell_type": "code",
   "execution_count": null,
   "metadata": {},
   "outputs": [],
   "source": []
  },
  {
   "cell_type": "code",
   "execution_count": null,
   "metadata": {},
   "outputs": [],
   "source": []
  },
  {
   "cell_type": "code",
   "execution_count": null,
   "metadata": {},
   "outputs": [
    {
     "name": "stdout",
     "output_type": "stream",
     "text": [
      "Predictions saved to /Users/vav/Documents/TUD/Semester 3/LLM/Project/public_data_dev/track_a/dev/eng_with_predictions.csv\n"
     ]
    }
   ],
   "source": [
    "# Correct the device for inference\n",
    "device = torch.device(\"mps\")\n",
    "\n",
    "# Load tokenizer\n",
    "tokenizer = BertTokenizer.from_pretrained(\"bert-base-uncased\")\n",
    "\n",
    "# Load the trained model and set it to evaluation mode\n",
    "model = BertEmotionClassifier(5)\n",
    "model.load_state_dict(torch.load(\"/Users/vav/Documents/TUD/Semester 3/LLM/Project/MIL_BCE_weights/models/best_valid.pth\", map_location=device))\n",
    "model.to(device)\n",
    "model.eval()\n",
    "\n",
    "# Define the function for preprocessing and predicting\n",
    "def predict_classes(model, texts, tokenizer, max_len=128):\n",
    "    \"\"\"\n",
    "    Predict classes for a list of texts using the provided model and tokenizer.\n",
    "    \"\"\"\n",
    "    predictions = []\n",
    "\n",
    "    with torch.no_grad():\n",
    "        for text in texts:\n",
    "            # Tokenize and prepare input\n",
    "            encoded = tokenizer(\n",
    "                text,\n",
    "                padding=\"max_length\",\n",
    "                truncation=True,\n",
    "                max_length=max_len,\n",
    "                return_tensors=\"pt\"\n",
    "            )\n",
    "            input_ids = encoded[\"input_ids\"].to(device)\n",
    "            attention_mask = encoded[\"attention_mask\"].to(device)\n",
    "\n",
    "            # Make predictions\n",
    "            logits = model((input_ids, attention_mask))\n",
    "            probs = torch.sigmoid(logits)  # Multi-label classification\n",
    "            predicted_labels = (probs > 0.5).int().tolist()[0]\n",
    "\n",
    "            predictions.append(predicted_labels)\n",
    "    \n",
    "    return predictions\n",
    "\n",
    "# Load and preprocess the new dataset\n",
    "dev_data_path = \"/Users/vav/Documents/TUD/Semester 3/LLM/Project/public_data_dev/track_a/dev/eng.csv\"\n",
    "data_eng = pd.read_csv(dev_data_path)\n",
    "texts = data_eng[\"text\"].fillna(\"\").tolist()  # Handle missing texts\n",
    "\n",
    "# Make predictions\n",
    "predictions = predict_classes(model, texts, tokenizer)\n",
    "\n",
    "# Add predictions to the DataFrame\n",
    "emotion_labels = [\"anger\", \"fear\", \"joy\", \"sadness\", \"surprise\"]\n",
    "prediction_df = pd.DataFrame(predictions, columns=emotion_labels)\n",
    "data_eng[emotion_labels] = prediction_df\n",
    "\n",
    "# Save the updated DataFrame to a new file\n",
    "output_path = \"/Users/vav/Documents/TUD/Semester 3/LLM/Project/public_data_dev/track_a/dev/eng_with_predictions.csv\"\n",
    "data_eng.to_csv(output_path, index=False)\n",
    "\n",
    "print(f\"Predictions saved to {output_path}\")\n"
   ]
  },
  {
   "cell_type": "code",
   "execution_count": null,
   "metadata": {},
   "outputs": [],
   "source": []
  }
 ],
 "metadata": {
  "kernelspec": {
   "display_name": ".venv",
   "language": "python",
   "name": "python3"
  },
  "language_info": {
   "codemirror_mode": {
    "name": "ipython",
    "version": 3
   },
   "file_extension": ".py",
   "mimetype": "text/x-python",
   "name": "python",
   "nbconvert_exporter": "python",
   "pygments_lexer": "ipython3",
   "version": "3.12.7"
  }
 },
 "nbformat": 4,
 "nbformat_minor": 2
}
